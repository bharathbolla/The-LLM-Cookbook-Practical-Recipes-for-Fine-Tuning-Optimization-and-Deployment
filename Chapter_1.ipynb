{
  "metadata": {
    "kernelspec": {
      "name": "python3",
      "display_name": "Python 3",
      "language": "python"
    },
    "language_info": {
      "name": "python",
      "version": "3.11.11",
      "mimetype": "text/x-python",
      "codemirror_mode": {
        "name": "ipython",
        "version": 3
      },
      "pygments_lexer": "ipython3",
      "nbconvert_exporter": "python",
      "file_extension": ".py"
    },
    "colab": {
      "provenance": [],
      "include_colab_link": true
    },
    "kaggle": {
      "accelerator": "none",
      "dataSources": [],
      "dockerImageVersionId": 31012,
      "isInternetEnabled": true,
      "language": "python",
      "sourceType": "notebook",
      "isGpuEnabled": false
    }
  },
  "nbformat_minor": 0,
  "nbformat": 4,
  "cells": [
    {
      "cell_type": "markdown",
      "metadata": {
        "id": "view-in-github",
        "colab_type": "text"
      },
      "source": [
        "<a href=\"https://colab.research.google.com/github/bharathbolla/The-LLM-Cookbook-Practical-Recipes-for-Fine-Tuning-Optimization-and-Deployment/blob/main/Chapter_1.ipynb\" target=\"_parent\"><img src=\"https://colab.research.google.com/assets/colab-badge.svg\" alt=\"Open In Colab\"/></a>"
      ]
    },
    {
      "cell_type": "code",
      "source": [
        "# --- Recipe: Hello, LLM! ---\n",
        "# Goal: Load a small pre-trained model and tokenizer, generate text.\n",
        "# Library: Hugging Face Transformers\n",
        "\n",
        "# Import necessary components\n",
        "# pipeline is a high-level helper for common tasks.\n",
        "from transformers import pipeline , set_seed"
      ],
      "metadata": {
        "trusted": true,
        "execution": {
          "iopub.status.busy": "2025-04-22T06:49:38.156697Z",
          "iopub.execute_input": "2025-04-22T06:49:38.157885Z",
          "iopub.status.idle": "2025-04-22T06:49:38.162843Z",
          "shell.execute_reply.started": "2025-04-22T06:49:38.157832Z",
          "shell.execute_reply": "2025-04-22T06:49:38.161636Z"
        },
        "id": "GZBNRN1USC9A"
      },
      "outputs": [],
      "execution_count": null
    },
    {
      "cell_type": "code",
      "source": [
        "# Set a seed for reproducibility (optional)\n",
        "# Ensures that if you run this code again, you get the same output.\n",
        "set_seed(42)"
      ],
      "metadata": {
        "trusted": true,
        "execution": {
          "iopub.status.busy": "2025-04-22T06:49:38.163991Z",
          "iopub.execute_input": "2025-04-22T06:49:38.164323Z",
          "iopub.status.idle": "2025-04-22T06:49:38.181168Z",
          "shell.execute_reply.started": "2025-04-22T06:49:38.164271Z",
          "shell.execute_reply": "2025-04-22T06:49:38.180313Z"
        },
        "id": "tUYKPSKySC9D"
      },
      "outputs": [],
      "execution_count": null
    },
    {
      "cell_type": "code",
      "source": [
        "# 1. Create a text-generation pipeline\n",
        "#    - We specify the task \"text-generation\".\n",
        "#    - We choose a relatively small model \"distilgpt2\" which is good for demonstration.\n",
        "#      Larger models (like gpt2-large, llama models) produce better text but require more resources.\n",
        "#    - The pipeline automatically handles loading the model and its corresponding tokenizer.\n",
        "print(\"Loading text-generation pipeline with distilgpt2...\")\n",
        "try:\n",
        "    generator = pipeline('text-generation', model='distilgpt2')\n",
        "    print(\"Pipeline loaded successfully.\")\n",
        "except Exception as e:\n",
        "    print(f\"Error loading pipeline: {e}\")\n",
        "    print(\"Please ensure you have an internet connection and the transformers torch library is installed using the command pip install transformers.\")\n",
        "    exit() # Exit if pipeline fails to load"
      ],
      "metadata": {
        "trusted": true,
        "execution": {
          "iopub.status.busy": "2025-04-22T06:49:38.182164Z",
          "iopub.execute_input": "2025-04-22T06:49:38.182490Z",
          "iopub.status.idle": "2025-04-22T06:49:38.676333Z",
          "shell.execute_reply.started": "2025-04-22T06:49:38.182465Z",
          "shell.execute_reply": "2025-04-22T06:49:38.675629Z"
        },
        "id": "DcLMQYM0SC9D",
        "outputId": "fba410bd-ad0c-4c23-fec7-3f6004bdf275"
      },
      "outputs": [
        {
          "name": "stdout",
          "text": "Loading text-generation pipeline with distilgpt2...\n",
          "output_type": "stream"
        },
        {
          "name": "stderr",
          "text": "Device set to use cpu\n",
          "output_type": "stream"
        },
        {
          "name": "stdout",
          "text": "Pipeline loaded successfully.\n",
          "output_type": "stream"
        }
      ],
      "execution_count": null
    },
    {
      "cell_type": "code",
      "source": [
        "# 2. Define a prompt\n",
        "prompt = \"To cook a perfect omelette, you first need to\""
      ],
      "metadata": {
        "trusted": true,
        "execution": {
          "iopub.status.busy": "2025-04-22T06:49:37.168287Z",
          "iopub.execute_input": "2025-04-22T06:49:37.168662Z",
          "iopub.status.idle": "2025-04-22T06:49:37.173896Z",
          "shell.execute_reply.started": "2025-04-22T06:49:37.168630Z",
          "shell.execute_reply": "2025-04-22T06:49:37.172931Z"
        },
        "id": "VZac61ZdSC9E"
      },
      "outputs": [],
      "execution_count": null
    },
    {
      "cell_type": "code",
      "source": [
        "# 3. Generate text\n",
        "#    - We pass the prompt to the generator.\n",
        "#    - max_length: Controls the total length of the output (prompt + generated text).\n",
        "#    - num_return_sequences: How many different completions to generate.\n",
        "print(f\"\\nGenerating text based on prompt: '{prompt}'\")\n",
        "try:\n",
        "    outputs = generator(prompt, max_length=50, num_return_sequences=1)\n",
        "\n",
        "    # 4. Print the generated text\n",
        "    print(\"\\nGenerated Text:\")\n",
        "    for i, output in enumerate(outputs):\n",
        "        print(f\"{i+1}: {output['generated_text']}\")\n",
        "\n",
        "except Exception as e:\n",
        "    print(f\"Error during text generation: {e}\")\n",
        "\n",
        "# --- End of Recipe ---"
      ],
      "metadata": {
        "trusted": true,
        "execution": {
          "iopub.status.busy": "2025-04-22T06:49:37.175562Z",
          "iopub.execute_input": "2025-04-22T06:49:37.176127Z",
          "iopub.status.idle": "2025-04-22T06:49:38.155602Z",
          "shell.execute_reply.started": "2025-04-22T06:49:37.176077Z",
          "shell.execute_reply": "2025-04-22T06:49:38.154437Z"
        },
        "id": "lyf46Q6eSC9E",
        "outputId": "5b425ac0-1e14-48fc-dd64-413d634ae4a2"
      },
      "outputs": [
        {
          "name": "stderr",
          "text": "Setting `pad_token_id` to `eos_token_id`:50256 for open-end generation.\n",
          "output_type": "stream"
        },
        {
          "name": "stdout",
          "text": "\nGenerating text based on prompt: 'To cook a perfect omelette, you first need to'\n\nGenerated Text:\n1: To cook a perfect omelette, you first need to prep large pieces by hand. The first thing to do is cut the sides of the omelette, then place it on a pan. If you have two the sides, add the o\n",
          "output_type": "stream"
        }
      ],
      "execution_count": null
    },
    {
      "cell_type": "code",
      "source": [],
      "metadata": {
        "trusted": true,
        "id": "Jmr797FCSC9F"
      },
      "outputs": [],
      "execution_count": null
    },
    {
      "cell_type": "code",
      "source": [],
      "metadata": {
        "trusted": true,
        "id": "VVgvQZaHSC9F"
      },
      "outputs": [],
      "execution_count": null
    },
    {
      "cell_type": "code",
      "source": [],
      "metadata": {
        "trusted": true,
        "id": "2mKZMp5zSC9F"
      },
      "outputs": [],
      "execution_count": null
    }
  ]
}