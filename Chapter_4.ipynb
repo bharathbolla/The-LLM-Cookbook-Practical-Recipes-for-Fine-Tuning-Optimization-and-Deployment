{
  "metadata": {
    "kernelspec": {
      "name": "python3",
      "display_name": "Python 3",
      "language": "python"
    },
    "language_info": {
      "name": "python",
      "version": "3.11.11",
      "mimetype": "text/x-python",
      "codemirror_mode": {
        "name": "ipython",
        "version": 3
      },
      "pygments_lexer": "ipython3",
      "nbconvert_exporter": "python",
      "file_extension": ".py"
    },
    "colab": {
      "provenance": [],
      "gpuType": "T4"
    },
    "accelerator": "GPU",
    "widgets": {
      "application/vnd.jupyter.widget-state+json": {
        "1789d08f757148c19310d75958809610": {
          "model_module": "@jupyter-widgets/controls",
          "model_name": "HBoxModel",
          "model_module_version": "1.5.0",
          "state": {
            "_dom_classes": [],
            "_model_module": "@jupyter-widgets/controls",
            "_model_module_version": "1.5.0",
            "_model_name": "HBoxModel",
            "_view_count": null,
            "_view_module": "@jupyter-widgets/controls",
            "_view_module_version": "1.5.0",
            "_view_name": "HBoxView",
            "box_style": "",
            "children": [
              "IPY_MODEL_4e8dc040d6874ac6a8a179636b640620",
              "IPY_MODEL_f9cc83ccb47e440bb817589822c40579",
              "IPY_MODEL_d4d92533874640988657815d6035dba2"
            ],
            "layout": "IPY_MODEL_40831aa81d12452cb5dcb0c98dab1ff1"
          }
        },
        "4e8dc040d6874ac6a8a179636b640620": {
          "model_module": "@jupyter-widgets/controls",
          "model_name": "HTMLModel",
          "model_module_version": "1.5.0",
          "state": {
            "_dom_classes": [],
            "_model_module": "@jupyter-widgets/controls",
            "_model_module_version": "1.5.0",
            "_model_name": "HTMLModel",
            "_view_count": null,
            "_view_module": "@jupyter-widgets/controls",
            "_view_module_version": "1.5.0",
            "_view_name": "HTMLView",
            "description": "",
            "description_tooltip": null,
            "layout": "IPY_MODEL_40381045a5854367940d08cc43dcf74a",
            "placeholder": "​",
            "style": "IPY_MODEL_71e6d4615b3c41659816241080c35445",
            "value": "tokenizer_config.json: 100%"
          }
        },
        "f9cc83ccb47e440bb817589822c40579": {
          "model_module": "@jupyter-widgets/controls",
          "model_name": "FloatProgressModel",
          "model_module_version": "1.5.0",
          "state": {
            "_dom_classes": [],
            "_model_module": "@jupyter-widgets/controls",
            "_model_module_version": "1.5.0",
            "_model_name": "FloatProgressModel",
            "_view_count": null,
            "_view_module": "@jupyter-widgets/controls",
            "_view_module_version": "1.5.0",
            "_view_name": "ProgressView",
            "bar_style": "success",
            "description": "",
            "description_tooltip": null,
            "layout": "IPY_MODEL_2c20d0fdbb0347d18f6d11d89b58253a",
            "max": 34173,
            "min": 0,
            "orientation": "horizontal",
            "style": "IPY_MODEL_090832c7215147e0b5c8a84d2a697363",
            "value": 34173
          }
        },
        "d4d92533874640988657815d6035dba2": {
          "model_module": "@jupyter-widgets/controls",
          "model_name": "HTMLModel",
          "model_module_version": "1.5.0",
          "state": {
            "_dom_classes": [],
            "_model_module": "@jupyter-widgets/controls",
            "_model_module_version": "1.5.0",
            "_model_name": "HTMLModel",
            "_view_count": null,
            "_view_module": "@jupyter-widgets/controls",
            "_view_module_version": "1.5.0",
            "_view_name": "HTMLView",
            "description": "",
            "description_tooltip": null,
            "layout": "IPY_MODEL_fa2e49a679c540da8ec7f1bb316a0f7c",
            "placeholder": "​",
            "style": "IPY_MODEL_579bcd76eedf4925b638e3c93ec93dc0",
            "value": " 34.2k/34.2k [00:00&lt;00:00, 3.52MB/s]"
          }
        },
        "40831aa81d12452cb5dcb0c98dab1ff1": {
          "model_module": "@jupyter-widgets/base",
          "model_name": "LayoutModel",
          "model_module_version": "1.2.0",
          "state": {
            "_model_module": "@jupyter-widgets/base",
            "_model_module_version": "1.2.0",
            "_model_name": "LayoutModel",
            "_view_count": null,
            "_view_module": "@jupyter-widgets/base",
            "_view_module_version": "1.2.0",
            "_view_name": "LayoutView",
            "align_content": null,
            "align_items": null,
            "align_self": null,
            "border": null,
            "bottom": null,
            "display": null,
            "flex": null,
            "flex_flow": null,
            "grid_area": null,
            "grid_auto_columns": null,
            "grid_auto_flow": null,
            "grid_auto_rows": null,
            "grid_column": null,
            "grid_gap": null,
            "grid_row": null,
            "grid_template_areas": null,
            "grid_template_columns": null,
            "grid_template_rows": null,
            "height": null,
            "justify_content": null,
            "justify_items": null,
            "left": null,
            "margin": null,
            "max_height": null,
            "max_width": null,
            "min_height": null,
            "min_width": null,
            "object_fit": null,
            "object_position": null,
            "order": null,
            "overflow": null,
            "overflow_x": null,
            "overflow_y": null,
            "padding": null,
            "right": null,
            "top": null,
            "visibility": null,
            "width": null
          }
        },
        "40381045a5854367940d08cc43dcf74a": {
          "model_module": "@jupyter-widgets/base",
          "model_name": "LayoutModel",
          "model_module_version": "1.2.0",
          "state": {
            "_model_module": "@jupyter-widgets/base",
            "_model_module_version": "1.2.0",
            "_model_name": "LayoutModel",
            "_view_count": null,
            "_view_module": "@jupyter-widgets/base",
            "_view_module_version": "1.2.0",
            "_view_name": "LayoutView",
            "align_content": null,
            "align_items": null,
            "align_self": null,
            "border": null,
            "bottom": null,
            "display": null,
            "flex": null,
            "flex_flow": null,
            "grid_area": null,
            "grid_auto_columns": null,
            "grid_auto_flow": null,
            "grid_auto_rows": null,
            "grid_column": null,
            "grid_gap": null,
            "grid_row": null,
            "grid_template_areas": null,
            "grid_template_columns": null,
            "grid_template_rows": null,
            "height": null,
            "justify_content": null,
            "justify_items": null,
            "left": null,
            "margin": null,
            "max_height": null,
            "max_width": null,
            "min_height": null,
            "min_width": null,
            "object_fit": null,
            "object_position": null,
            "order": null,
            "overflow": null,
            "overflow_x": null,
            "overflow_y": null,
            "padding": null,
            "right": null,
            "top": null,
            "visibility": null,
            "width": null
          }
        },
        "71e6d4615b3c41659816241080c35445": {
          "model_module": "@jupyter-widgets/controls",
          "model_name": "DescriptionStyleModel",
          "model_module_version": "1.5.0",
          "state": {
            "_model_module": "@jupyter-widgets/controls",
            "_model_module_version": "1.5.0",
            "_model_name": "DescriptionStyleModel",
            "_view_count": null,
            "_view_module": "@jupyter-widgets/base",
            "_view_module_version": "1.2.0",
            "_view_name": "StyleView",
            "description_width": ""
          }
        },
        "2c20d0fdbb0347d18f6d11d89b58253a": {
          "model_module": "@jupyter-widgets/base",
          "model_name": "LayoutModel",
          "model_module_version": "1.2.0",
          "state": {
            "_model_module": "@jupyter-widgets/base",
            "_model_module_version": "1.2.0",
            "_model_name": "LayoutModel",
            "_view_count": null,
            "_view_module": "@jupyter-widgets/base",
            "_view_module_version": "1.2.0",
            "_view_name": "LayoutView",
            "align_content": null,
            "align_items": null,
            "align_self": null,
            "border": null,
            "bottom": null,
            "display": null,
            "flex": null,
            "flex_flow": null,
            "grid_area": null,
            "grid_auto_columns": null,
            "grid_auto_flow": null,
            "grid_auto_rows": null,
            "grid_column": null,
            "grid_gap": null,
            "grid_row": null,
            "grid_template_areas": null,
            "grid_template_columns": null,
            "grid_template_rows": null,
            "height": null,
            "justify_content": null,
            "justify_items": null,
            "left": null,
            "margin": null,
            "max_height": null,
            "max_width": null,
            "min_height": null,
            "min_width": null,
            "object_fit": null,
            "object_position": null,
            "order": null,
            "overflow": null,
            "overflow_x": null,
            "overflow_y": null,
            "padding": null,
            "right": null,
            "top": null,
            "visibility": null,
            "width": null
          }
        },
        "090832c7215147e0b5c8a84d2a697363": {
          "model_module": "@jupyter-widgets/controls",
          "model_name": "ProgressStyleModel",
          "model_module_version": "1.5.0",
          "state": {
            "_model_module": "@jupyter-widgets/controls",
            "_model_module_version": "1.5.0",
            "_model_name": "ProgressStyleModel",
            "_view_count": null,
            "_view_module": "@jupyter-widgets/base",
            "_view_module_version": "1.2.0",
            "_view_name": "StyleView",
            "bar_color": null,
            "description_width": ""
          }
        },
        "fa2e49a679c540da8ec7f1bb316a0f7c": {
          "model_module": "@jupyter-widgets/base",
          "model_name": "LayoutModel",
          "model_module_version": "1.2.0",
          "state": {
            "_model_module": "@jupyter-widgets/base",
            "_model_module_version": "1.2.0",
            "_model_name": "LayoutModel",
            "_view_count": null,
            "_view_module": "@jupyter-widgets/base",
            "_view_module_version": "1.2.0",
            "_view_name": "LayoutView",
            "align_content": null,
            "align_items": null,
            "align_self": null,
            "border": null,
            "bottom": null,
            "display": null,
            "flex": null,
            "flex_flow": null,
            "grid_area": null,
            "grid_auto_columns": null,
            "grid_auto_flow": null,
            "grid_auto_rows": null,
            "grid_column": null,
            "grid_gap": null,
            "grid_row": null,
            "grid_template_areas": null,
            "grid_template_columns": null,
            "grid_template_rows": null,
            "height": null,
            "justify_content": null,
            "justify_items": null,
            "left": null,
            "margin": null,
            "max_height": null,
            "max_width": null,
            "min_height": null,
            "min_width": null,
            "object_fit": null,
            "object_position": null,
            "order": null,
            "overflow": null,
            "overflow_x": null,
            "overflow_y": null,
            "padding": null,
            "right": null,
            "top": null,
            "visibility": null,
            "width": null
          }
        },
        "579bcd76eedf4925b638e3c93ec93dc0": {
          "model_module": "@jupyter-widgets/controls",
          "model_name": "DescriptionStyleModel",
          "model_module_version": "1.5.0",
          "state": {
            "_model_module": "@jupyter-widgets/controls",
            "_model_module_version": "1.5.0",
            "_model_name": "DescriptionStyleModel",
            "_view_count": null,
            "_view_module": "@jupyter-widgets/base",
            "_view_module_version": "1.2.0",
            "_view_name": "StyleView",
            "description_width": ""
          }
        },
        "7bad498562004d56b21d5dbcd7a18cee": {
          "model_module": "@jupyter-widgets/controls",
          "model_name": "HBoxModel",
          "model_module_version": "1.5.0",
          "state": {
            "_dom_classes": [],
            "_model_module": "@jupyter-widgets/controls",
            "_model_module_version": "1.5.0",
            "_model_name": "HBoxModel",
            "_view_count": null,
            "_view_module": "@jupyter-widgets/controls",
            "_view_module_version": "1.5.0",
            "_view_name": "HBoxView",
            "box_style": "",
            "children": [
              "IPY_MODEL_ea8a16681ecd4ba2b4edf04463a40463",
              "IPY_MODEL_b6df11d216f745a8b1588bd262a18314",
              "IPY_MODEL_01d037dbe67d4619958901a2b016d714"
            ],
            "layout": "IPY_MODEL_dfd007059976496397c011080d9cc633"
          }
        },
        "ea8a16681ecd4ba2b4edf04463a40463": {
          "model_module": "@jupyter-widgets/controls",
          "model_name": "HTMLModel",
          "model_module_version": "1.5.0",
          "state": {
            "_dom_classes": [],
            "_model_module": "@jupyter-widgets/controls",
            "_model_module_version": "1.5.0",
            "_model_name": "HTMLModel",
            "_view_count": null,
            "_view_module": "@jupyter-widgets/controls",
            "_view_module_version": "1.5.0",
            "_view_name": "HTMLView",
            "description": "",
            "description_tooltip": null,
            "layout": "IPY_MODEL_d58acff0564440729e23d7fc2e859f4b",
            "placeholder": "​",
            "style": "IPY_MODEL_5994d5ebef17481dbe599f9c44273a50",
            "value": "tokenizer.model: 100%"
          }
        },
        "b6df11d216f745a8b1588bd262a18314": {
          "model_module": "@jupyter-widgets/controls",
          "model_name": "FloatProgressModel",
          "model_module_version": "1.5.0",
          "state": {
            "_dom_classes": [],
            "_model_module": "@jupyter-widgets/controls",
            "_model_module_version": "1.5.0",
            "_model_name": "FloatProgressModel",
            "_view_count": null,
            "_view_module": "@jupyter-widgets/controls",
            "_view_module_version": "1.5.0",
            "_view_name": "ProgressView",
            "bar_style": "success",
            "description": "",
            "description_tooltip": null,
            "layout": "IPY_MODEL_9be5c8b2a67b474295896ab23fafa785",
            "max": 4241003,
            "min": 0,
            "orientation": "horizontal",
            "style": "IPY_MODEL_9a1f6128f7ec4e51a6bfbd90a2ea4dfd",
            "value": 4241003
          }
        },
        "01d037dbe67d4619958901a2b016d714": {
          "model_module": "@jupyter-widgets/controls",
          "model_name": "HTMLModel",
          "model_module_version": "1.5.0",
          "state": {
            "_dom_classes": [],
            "_model_module": "@jupyter-widgets/controls",
            "_model_module_version": "1.5.0",
            "_model_name": "HTMLModel",
            "_view_count": null,
            "_view_module": "@jupyter-widgets/controls",
            "_view_module_version": "1.5.0",
            "_view_name": "HTMLView",
            "description": "",
            "description_tooltip": null,
            "layout": "IPY_MODEL_df71bc97e983487fbfdebe2f6166f20d",
            "placeholder": "​",
            "style": "IPY_MODEL_da4fe99f52694b6e9687c95d2413a678",
            "value": " 4.24M/4.24M [00:00&lt;00:00, 25.0MB/s]"
          }
        },
        "dfd007059976496397c011080d9cc633": {
          "model_module": "@jupyter-widgets/base",
          "model_name": "LayoutModel",
          "model_module_version": "1.2.0",
          "state": {
            "_model_module": "@jupyter-widgets/base",
            "_model_module_version": "1.2.0",
            "_model_name": "LayoutModel",
            "_view_count": null,
            "_view_module": "@jupyter-widgets/base",
            "_view_module_version": "1.2.0",
            "_view_name": "LayoutView",
            "align_content": null,
            "align_items": null,
            "align_self": null,
            "border": null,
            "bottom": null,
            "display": null,
            "flex": null,
            "flex_flow": null,
            "grid_area": null,
            "grid_auto_columns": null,
            "grid_auto_flow": null,
            "grid_auto_rows": null,
            "grid_column": null,
            "grid_gap": null,
            "grid_row": null,
            "grid_template_areas": null,
            "grid_template_columns": null,
            "grid_template_rows": null,
            "height": null,
            "justify_content": null,
            "justify_items": null,
            "left": null,
            "margin": null,
            "max_height": null,
            "max_width": null,
            "min_height": null,
            "min_width": null,
            "object_fit": null,
            "object_position": null,
            "order": null,
            "overflow": null,
            "overflow_x": null,
            "overflow_y": null,
            "padding": null,
            "right": null,
            "top": null,
            "visibility": null,
            "width": null
          }
        },
        "d58acff0564440729e23d7fc2e859f4b": {
          "model_module": "@jupyter-widgets/base",
          "model_name": "LayoutModel",
          "model_module_version": "1.2.0",
          "state": {
            "_model_module": "@jupyter-widgets/base",
            "_model_module_version": "1.2.0",
            "_model_name": "LayoutModel",
            "_view_count": null,
            "_view_module": "@jupyter-widgets/base",
            "_view_module_version": "1.2.0",
            "_view_name": "LayoutView",
            "align_content": null,
            "align_items": null,
            "align_self": null,
            "border": null,
            "bottom": null,
            "display": null,
            "flex": null,
            "flex_flow": null,
            "grid_area": null,
            "grid_auto_columns": null,
            "grid_auto_flow": null,
            "grid_auto_rows": null,
            "grid_column": null,
            "grid_gap": null,
            "grid_row": null,
            "grid_template_areas": null,
            "grid_template_columns": null,
            "grid_template_rows": null,
            "height": null,
            "justify_content": null,
            "justify_items": null,
            "left": null,
            "margin": null,
            "max_height": null,
            "max_width": null,
            "min_height": null,
            "min_width": null,
            "object_fit": null,
            "object_position": null,
            "order": null,
            "overflow": null,
            "overflow_x": null,
            "overflow_y": null,
            "padding": null,
            "right": null,
            "top": null,
            "visibility": null,
            "width": null
          }
        },
        "5994d5ebef17481dbe599f9c44273a50": {
          "model_module": "@jupyter-widgets/controls",
          "model_name": "DescriptionStyleModel",
          "model_module_version": "1.5.0",
          "state": {
            "_model_module": "@jupyter-widgets/controls",
            "_model_module_version": "1.5.0",
            "_model_name": "DescriptionStyleModel",
            "_view_count": null,
            "_view_module": "@jupyter-widgets/base",
            "_view_module_version": "1.2.0",
            "_view_name": "StyleView",
            "description_width": ""
          }
        },
        "9be5c8b2a67b474295896ab23fafa785": {
          "model_module": "@jupyter-widgets/base",
          "model_name": "LayoutModel",
          "model_module_version": "1.2.0",
          "state": {
            "_model_module": "@jupyter-widgets/base",
            "_model_module_version": "1.2.0",
            "_model_name": "LayoutModel",
            "_view_count": null,
            "_view_module": "@jupyter-widgets/base",
            "_view_module_version": "1.2.0",
            "_view_name": "LayoutView",
            "align_content": null,
            "align_items": null,
            "align_self": null,
            "border": null,
            "bottom": null,
            "display": null,
            "flex": null,
            "flex_flow": null,
            "grid_area": null,
            "grid_auto_columns": null,
            "grid_auto_flow": null,
            "grid_auto_rows": null,
            "grid_column": null,
            "grid_gap": null,
            "grid_row": null,
            "grid_template_areas": null,
            "grid_template_columns": null,
            "grid_template_rows": null,
            "height": null,
            "justify_content": null,
            "justify_items": null,
            "left": null,
            "margin": null,
            "max_height": null,
            "max_width": null,
            "min_height": null,
            "min_width": null,
            "object_fit": null,
            "object_position": null,
            "order": null,
            "overflow": null,
            "overflow_x": null,
            "overflow_y": null,
            "padding": null,
            "right": null,
            "top": null,
            "visibility": null,
            "width": null
          }
        },
        "9a1f6128f7ec4e51a6bfbd90a2ea4dfd": {
          "model_module": "@jupyter-widgets/controls",
          "model_name": "ProgressStyleModel",
          "model_module_version": "1.5.0",
          "state": {
            "_model_module": "@jupyter-widgets/controls",
            "_model_module_version": "1.5.0",
            "_model_name": "ProgressStyleModel",
            "_view_count": null,
            "_view_module": "@jupyter-widgets/base",
            "_view_module_version": "1.2.0",
            "_view_name": "StyleView",
            "bar_color": null,
            "description_width": ""
          }
        },
        "df71bc97e983487fbfdebe2f6166f20d": {
          "model_module": "@jupyter-widgets/base",
          "model_name": "LayoutModel",
          "model_module_version": "1.2.0",
          "state": {
            "_model_module": "@jupyter-widgets/base",
            "_model_module_version": "1.2.0",
            "_model_name": "LayoutModel",
            "_view_count": null,
            "_view_module": "@jupyter-widgets/base",
            "_view_module_version": "1.2.0",
            "_view_name": "LayoutView",
            "align_content": null,
            "align_items": null,
            "align_self": null,
            "border": null,
            "bottom": null,
            "display": null,
            "flex": null,
            "flex_flow": null,
            "grid_area": null,
            "grid_auto_columns": null,
            "grid_auto_flow": null,
            "grid_auto_rows": null,
            "grid_column": null,
            "grid_gap": null,
            "grid_row": null,
            "grid_template_areas": null,
            "grid_template_columns": null,
            "grid_template_rows": null,
            "height": null,
            "justify_content": null,
            "justify_items": null,
            "left": null,
            "margin": null,
            "max_height": null,
            "max_width": null,
            "min_height": null,
            "min_width": null,
            "object_fit": null,
            "object_position": null,
            "order": null,
            "overflow": null,
            "overflow_x": null,
            "overflow_y": null,
            "padding": null,
            "right": null,
            "top": null,
            "visibility": null,
            "width": null
          }
        },
        "da4fe99f52694b6e9687c95d2413a678": {
          "model_module": "@jupyter-widgets/controls",
          "model_name": "DescriptionStyleModel",
          "model_module_version": "1.5.0",
          "state": {
            "_model_module": "@jupyter-widgets/controls",
            "_model_module_version": "1.5.0",
            "_model_name": "DescriptionStyleModel",
            "_view_count": null,
            "_view_module": "@jupyter-widgets/base",
            "_view_module_version": "1.2.0",
            "_view_name": "StyleView",
            "description_width": ""
          }
        },
        "c0b07354c4b54c22891598113a8af423": {
          "model_module": "@jupyter-widgets/controls",
          "model_name": "HBoxModel",
          "model_module_version": "1.5.0",
          "state": {
            "_dom_classes": [],
            "_model_module": "@jupyter-widgets/controls",
            "_model_module_version": "1.5.0",
            "_model_name": "HBoxModel",
            "_view_count": null,
            "_view_module": "@jupyter-widgets/controls",
            "_view_module_version": "1.5.0",
            "_view_name": "HBoxView",
            "box_style": "",
            "children": [
              "IPY_MODEL_8d5f3386eaf34d6f8d5c7c8af8ac1479",
              "IPY_MODEL_d0d0832f4a4b482da9453d91fbd95e8f",
              "IPY_MODEL_5297861b2d6e43fa9430ffd3323f1ad3"
            ],
            "layout": "IPY_MODEL_3511f6cc327a4e7ab1ac2472485b4917"
          }
        },
        "8d5f3386eaf34d6f8d5c7c8af8ac1479": {
          "model_module": "@jupyter-widgets/controls",
          "model_name": "HTMLModel",
          "model_module_version": "1.5.0",
          "state": {
            "_dom_classes": [],
            "_model_module": "@jupyter-widgets/controls",
            "_model_module_version": "1.5.0",
            "_model_name": "HTMLModel",
            "_view_count": null,
            "_view_module": "@jupyter-widgets/controls",
            "_view_module_version": "1.5.0",
            "_view_name": "HTMLView",
            "description": "",
            "description_tooltip": null,
            "layout": "IPY_MODEL_a656da7ecb1d4a0497b8c6f1b807af91",
            "placeholder": "​",
            "style": "IPY_MODEL_3b16880672b343eb9875857bf8079ec3",
            "value": "tokenizer.json: 100%"
          }
        },
        "d0d0832f4a4b482da9453d91fbd95e8f": {
          "model_module": "@jupyter-widgets/controls",
          "model_name": "FloatProgressModel",
          "model_module_version": "1.5.0",
          "state": {
            "_dom_classes": [],
            "_model_module": "@jupyter-widgets/controls",
            "_model_module_version": "1.5.0",
            "_model_name": "FloatProgressModel",
            "_view_count": null,
            "_view_module": "@jupyter-widgets/controls",
            "_view_module_version": "1.5.0",
            "_view_name": "ProgressView",
            "bar_style": "success",
            "description": "",
            "description_tooltip": null,
            "layout": "IPY_MODEL_95f385750fbf48b280be208593c49eea",
            "max": 17518497,
            "min": 0,
            "orientation": "horizontal",
            "style": "IPY_MODEL_c8ee0ac33be84a37af2a26cae209f46d",
            "value": 17518497
          }
        },
        "5297861b2d6e43fa9430ffd3323f1ad3": {
          "model_module": "@jupyter-widgets/controls",
          "model_name": "HTMLModel",
          "model_module_version": "1.5.0",
          "state": {
            "_dom_classes": [],
            "_model_module": "@jupyter-widgets/controls",
            "_model_module_version": "1.5.0",
            "_model_name": "HTMLModel",
            "_view_count": null,
            "_view_module": "@jupyter-widgets/controls",
            "_view_module_version": "1.5.0",
            "_view_name": "HTMLView",
            "description": "",
            "description_tooltip": null,
            "layout": "IPY_MODEL_0e70e545897b4e4298b394254e63da21",
            "placeholder": "​",
            "style": "IPY_MODEL_64c38ecda4de48199a72a6f5da69cb17",
            "value": " 17.5M/17.5M [00:00&lt;00:00, 93.1MB/s]"
          }
        },
        "3511f6cc327a4e7ab1ac2472485b4917": {
          "model_module": "@jupyter-widgets/base",
          "model_name": "LayoutModel",
          "model_module_version": "1.2.0",
          "state": {
            "_model_module": "@jupyter-widgets/base",
            "_model_module_version": "1.2.0",
            "_model_name": "LayoutModel",
            "_view_count": null,
            "_view_module": "@jupyter-widgets/base",
            "_view_module_version": "1.2.0",
            "_view_name": "LayoutView",
            "align_content": null,
            "align_items": null,
            "align_self": null,
            "border": null,
            "bottom": null,
            "display": null,
            "flex": null,
            "flex_flow": null,
            "grid_area": null,
            "grid_auto_columns": null,
            "grid_auto_flow": null,
            "grid_auto_rows": null,
            "grid_column": null,
            "grid_gap": null,
            "grid_row": null,
            "grid_template_areas": null,
            "grid_template_columns": null,
            "grid_template_rows": null,
            "height": null,
            "justify_content": null,
            "justify_items": null,
            "left": null,
            "margin": null,
            "max_height": null,
            "max_width": null,
            "min_height": null,
            "min_width": null,
            "object_fit": null,
            "object_position": null,
            "order": null,
            "overflow": null,
            "overflow_x": null,
            "overflow_y": null,
            "padding": null,
            "right": null,
            "top": null,
            "visibility": null,
            "width": null
          }
        },
        "a656da7ecb1d4a0497b8c6f1b807af91": {
          "model_module": "@jupyter-widgets/base",
          "model_name": "LayoutModel",
          "model_module_version": "1.2.0",
          "state": {
            "_model_module": "@jupyter-widgets/base",
            "_model_module_version": "1.2.0",
            "_model_name": "LayoutModel",
            "_view_count": null,
            "_view_module": "@jupyter-widgets/base",
            "_view_module_version": "1.2.0",
            "_view_name": "LayoutView",
            "align_content": null,
            "align_items": null,
            "align_self": null,
            "border": null,
            "bottom": null,
            "display": null,
            "flex": null,
            "flex_flow": null,
            "grid_area": null,
            "grid_auto_columns": null,
            "grid_auto_flow": null,
            "grid_auto_rows": null,
            "grid_column": null,
            "grid_gap": null,
            "grid_row": null,
            "grid_template_areas": null,
            "grid_template_columns": null,
            "grid_template_rows": null,
            "height": null,
            "justify_content": null,
            "justify_items": null,
            "left": null,
            "margin": null,
            "max_height": null,
            "max_width": null,
            "min_height": null,
            "min_width": null,
            "object_fit": null,
            "object_position": null,
            "order": null,
            "overflow": null,
            "overflow_x": null,
            "overflow_y": null,
            "padding": null,
            "right": null,
            "top": null,
            "visibility": null,
            "width": null
          }
        },
        "3b16880672b343eb9875857bf8079ec3": {
          "model_module": "@jupyter-widgets/controls",
          "model_name": "DescriptionStyleModel",
          "model_module_version": "1.5.0",
          "state": {
            "_model_module": "@jupyter-widgets/controls",
            "_model_module_version": "1.5.0",
            "_model_name": "DescriptionStyleModel",
            "_view_count": null,
            "_view_module": "@jupyter-widgets/base",
            "_view_module_version": "1.2.0",
            "_view_name": "StyleView",
            "description_width": ""
          }
        },
        "95f385750fbf48b280be208593c49eea": {
          "model_module": "@jupyter-widgets/base",
          "model_name": "LayoutModel",
          "model_module_version": "1.2.0",
          "state": {
            "_model_module": "@jupyter-widgets/base",
            "_model_module_version": "1.2.0",
            "_model_name": "LayoutModel",
            "_view_count": null,
            "_view_module": "@jupyter-widgets/base",
            "_view_module_version": "1.2.0",
            "_view_name": "LayoutView",
            "align_content": null,
            "align_items": null,
            "align_self": null,
            "border": null,
            "bottom": null,
            "display": null,
            "flex": null,
            "flex_flow": null,
            "grid_area": null,
            "grid_auto_columns": null,
            "grid_auto_flow": null,
            "grid_auto_rows": null,
            "grid_column": null,
            "grid_gap": null,
            "grid_row": null,
            "grid_template_areas": null,
            "grid_template_columns": null,
            "grid_template_rows": null,
            "height": null,
            "justify_content": null,
            "justify_items": null,
            "left": null,
            "margin": null,
            "max_height": null,
            "max_width": null,
            "min_height": null,
            "min_width": null,
            "object_fit": null,
            "object_position": null,
            "order": null,
            "overflow": null,
            "overflow_x": null,
            "overflow_y": null,
            "padding": null,
            "right": null,
            "top": null,
            "visibility": null,
            "width": null
          }
        },
        "c8ee0ac33be84a37af2a26cae209f46d": {
          "model_module": "@jupyter-widgets/controls",
          "model_name": "ProgressStyleModel",
          "model_module_version": "1.5.0",
          "state": {
            "_model_module": "@jupyter-widgets/controls",
            "_model_module_version": "1.5.0",
            "_model_name": "ProgressStyleModel",
            "_view_count": null,
            "_view_module": "@jupyter-widgets/base",
            "_view_module_version": "1.2.0",
            "_view_name": "StyleView",
            "bar_color": null,
            "description_width": ""
          }
        },
        "0e70e545897b4e4298b394254e63da21": {
          "model_module": "@jupyter-widgets/base",
          "model_name": "LayoutModel",
          "model_module_version": "1.2.0",
          "state": {
            "_model_module": "@jupyter-widgets/base",
            "_model_module_version": "1.2.0",
            "_model_name": "LayoutModel",
            "_view_count": null,
            "_view_module": "@jupyter-widgets/base",
            "_view_module_version": "1.2.0",
            "_view_name": "LayoutView",
            "align_content": null,
            "align_items": null,
            "align_self": null,
            "border": null,
            "bottom": null,
            "display": null,
            "flex": null,
            "flex_flow": null,
            "grid_area": null,
            "grid_auto_columns": null,
            "grid_auto_flow": null,
            "grid_auto_rows": null,
            "grid_column": null,
            "grid_gap": null,
            "grid_row": null,
            "grid_template_areas": null,
            "grid_template_columns": null,
            "grid_template_rows": null,
            "height": null,
            "justify_content": null,
            "justify_items": null,
            "left": null,
            "margin": null,
            "max_height": null,
            "max_width": null,
            "min_height": null,
            "min_width": null,
            "object_fit": null,
            "object_position": null,
            "order": null,
            "overflow": null,
            "overflow_x": null,
            "overflow_y": null,
            "padding": null,
            "right": null,
            "top": null,
            "visibility": null,
            "width": null
          }
        },
        "64c38ecda4de48199a72a6f5da69cb17": {
          "model_module": "@jupyter-widgets/controls",
          "model_name": "DescriptionStyleModel",
          "model_module_version": "1.5.0",
          "state": {
            "_model_module": "@jupyter-widgets/controls",
            "_model_module_version": "1.5.0",
            "_model_name": "DescriptionStyleModel",
            "_view_count": null,
            "_view_module": "@jupyter-widgets/base",
            "_view_module_version": "1.2.0",
            "_view_name": "StyleView",
            "description_width": ""
          }
        },
        "63fc53487ef743c0b1f798c9d31ed12a": {
          "model_module": "@jupyter-widgets/controls",
          "model_name": "HBoxModel",
          "model_module_version": "1.5.0",
          "state": {
            "_dom_classes": [],
            "_model_module": "@jupyter-widgets/controls",
            "_model_module_version": "1.5.0",
            "_model_name": "HBoxModel",
            "_view_count": null,
            "_view_module": "@jupyter-widgets/controls",
            "_view_module_version": "1.5.0",
            "_view_name": "HBoxView",
            "box_style": "",
            "children": [
              "IPY_MODEL_375cd06d21914ec2922f0c657a4798e3",
              "IPY_MODEL_60c8bf86ce0649cd8ec1567b4051817d",
              "IPY_MODEL_e7935da8863c432db7370414f30561b6"
            ],
            "layout": "IPY_MODEL_2ba87a4820174951b3dd34611daacae6"
          }
        },
        "375cd06d21914ec2922f0c657a4798e3": {
          "model_module": "@jupyter-widgets/controls",
          "model_name": "HTMLModel",
          "model_module_version": "1.5.0",
          "state": {
            "_dom_classes": [],
            "_model_module": "@jupyter-widgets/controls",
            "_model_module_version": "1.5.0",
            "_model_name": "HTMLModel",
            "_view_count": null,
            "_view_module": "@jupyter-widgets/controls",
            "_view_module_version": "1.5.0",
            "_view_name": "HTMLView",
            "description": "",
            "description_tooltip": null,
            "layout": "IPY_MODEL_da3ee93204f9476c9938803a3935c83b",
            "placeholder": "​",
            "style": "IPY_MODEL_98f83b9e615449dc867c408bbdc13d37",
            "value": "special_tokens_map.json: 100%"
          }
        },
        "60c8bf86ce0649cd8ec1567b4051817d": {
          "model_module": "@jupyter-widgets/controls",
          "model_name": "FloatProgressModel",
          "model_module_version": "1.5.0",
          "state": {
            "_dom_classes": [],
            "_model_module": "@jupyter-widgets/controls",
            "_model_module_version": "1.5.0",
            "_model_name": "FloatProgressModel",
            "_view_count": null,
            "_view_module": "@jupyter-widgets/controls",
            "_view_module_version": "1.5.0",
            "_view_name": "ProgressView",
            "bar_style": "success",
            "description": "",
            "description_tooltip": null,
            "layout": "IPY_MODEL_886d4708f8ac43e1a44420f40df9f44f",
            "max": 636,
            "min": 0,
            "orientation": "horizontal",
            "style": "IPY_MODEL_29281e630ac745a19bd7d544743d5802",
            "value": 636
          }
        },
        "e7935da8863c432db7370414f30561b6": {
          "model_module": "@jupyter-widgets/controls",
          "model_name": "HTMLModel",
          "model_module_version": "1.5.0",
          "state": {
            "_dom_classes": [],
            "_model_module": "@jupyter-widgets/controls",
            "_model_module_version": "1.5.0",
            "_model_name": "HTMLModel",
            "_view_count": null,
            "_view_module": "@jupyter-widgets/controls",
            "_view_module_version": "1.5.0",
            "_view_name": "HTMLView",
            "description": "",
            "description_tooltip": null,
            "layout": "IPY_MODEL_2839c5d56b7547f8af9ef7075a0e0f97",
            "placeholder": "​",
            "style": "IPY_MODEL_f4c908b3847b41b2b2f6e9bd5313659c",
            "value": " 636/636 [00:00&lt;00:00, 60.7kB/s]"
          }
        },
        "2ba87a4820174951b3dd34611daacae6": {
          "model_module": "@jupyter-widgets/base",
          "model_name": "LayoutModel",
          "model_module_version": "1.2.0",
          "state": {
            "_model_module": "@jupyter-widgets/base",
            "_model_module_version": "1.2.0",
            "_model_name": "LayoutModel",
            "_view_count": null,
            "_view_module": "@jupyter-widgets/base",
            "_view_module_version": "1.2.0",
            "_view_name": "LayoutView",
            "align_content": null,
            "align_items": null,
            "align_self": null,
            "border": null,
            "bottom": null,
            "display": null,
            "flex": null,
            "flex_flow": null,
            "grid_area": null,
            "grid_auto_columns": null,
            "grid_auto_flow": null,
            "grid_auto_rows": null,
            "grid_column": null,
            "grid_gap": null,
            "grid_row": null,
            "grid_template_areas": null,
            "grid_template_columns": null,
            "grid_template_rows": null,
            "height": null,
            "justify_content": null,
            "justify_items": null,
            "left": null,
            "margin": null,
            "max_height": null,
            "max_width": null,
            "min_height": null,
            "min_width": null,
            "object_fit": null,
            "object_position": null,
            "order": null,
            "overflow": null,
            "overflow_x": null,
            "overflow_y": null,
            "padding": null,
            "right": null,
            "top": null,
            "visibility": null,
            "width": null
          }
        },
        "da3ee93204f9476c9938803a3935c83b": {
          "model_module": "@jupyter-widgets/base",
          "model_name": "LayoutModel",
          "model_module_version": "1.2.0",
          "state": {
            "_model_module": "@jupyter-widgets/base",
            "_model_module_version": "1.2.0",
            "_model_name": "LayoutModel",
            "_view_count": null,
            "_view_module": "@jupyter-widgets/base",
            "_view_module_version": "1.2.0",
            "_view_name": "LayoutView",
            "align_content": null,
            "align_items": null,
            "align_self": null,
            "border": null,
            "bottom": null,
            "display": null,
            "flex": null,
            "flex_flow": null,
            "grid_area": null,
            "grid_auto_columns": null,
            "grid_auto_flow": null,
            "grid_auto_rows": null,
            "grid_column": null,
            "grid_gap": null,
            "grid_row": null,
            "grid_template_areas": null,
            "grid_template_columns": null,
            "grid_template_rows": null,
            "height": null,
            "justify_content": null,
            "justify_items": null,
            "left": null,
            "margin": null,
            "max_height": null,
            "max_width": null,
            "min_height": null,
            "min_width": null,
            "object_fit": null,
            "object_position": null,
            "order": null,
            "overflow": null,
            "overflow_x": null,
            "overflow_y": null,
            "padding": null,
            "right": null,
            "top": null,
            "visibility": null,
            "width": null
          }
        },
        "98f83b9e615449dc867c408bbdc13d37": {
          "model_module": "@jupyter-widgets/controls",
          "model_name": "DescriptionStyleModel",
          "model_module_version": "1.5.0",
          "state": {
            "_model_module": "@jupyter-widgets/controls",
            "_model_module_version": "1.5.0",
            "_model_name": "DescriptionStyleModel",
            "_view_count": null,
            "_view_module": "@jupyter-widgets/base",
            "_view_module_version": "1.2.0",
            "_view_name": "StyleView",
            "description_width": ""
          }
        },
        "886d4708f8ac43e1a44420f40df9f44f": {
          "model_module": "@jupyter-widgets/base",
          "model_name": "LayoutModel",
          "model_module_version": "1.2.0",
          "state": {
            "_model_module": "@jupyter-widgets/base",
            "_model_module_version": "1.2.0",
            "_model_name": "LayoutModel",
            "_view_count": null,
            "_view_module": "@jupyter-widgets/base",
            "_view_module_version": "1.2.0",
            "_view_name": "LayoutView",
            "align_content": null,
            "align_items": null,
            "align_self": null,
            "border": null,
            "bottom": null,
            "display": null,
            "flex": null,
            "flex_flow": null,
            "grid_area": null,
            "grid_auto_columns": null,
            "grid_auto_flow": null,
            "grid_auto_rows": null,
            "grid_column": null,
            "grid_gap": null,
            "grid_row": null,
            "grid_template_areas": null,
            "grid_template_columns": null,
            "grid_template_rows": null,
            "height": null,
            "justify_content": null,
            "justify_items": null,
            "left": null,
            "margin": null,
            "max_height": null,
            "max_width": null,
            "min_height": null,
            "min_width": null,
            "object_fit": null,
            "object_position": null,
            "order": null,
            "overflow": null,
            "overflow_x": null,
            "overflow_y": null,
            "padding": null,
            "right": null,
            "top": null,
            "visibility": null,
            "width": null
          }
        },
        "29281e630ac745a19bd7d544743d5802": {
          "model_module": "@jupyter-widgets/controls",
          "model_name": "ProgressStyleModel",
          "model_module_version": "1.5.0",
          "state": {
            "_model_module": "@jupyter-widgets/controls",
            "_model_module_version": "1.5.0",
            "_model_name": "ProgressStyleModel",
            "_view_count": null,
            "_view_module": "@jupyter-widgets/base",
            "_view_module_version": "1.2.0",
            "_view_name": "StyleView",
            "bar_color": null,
            "description_width": ""
          }
        },
        "2839c5d56b7547f8af9ef7075a0e0f97": {
          "model_module": "@jupyter-widgets/base",
          "model_name": "LayoutModel",
          "model_module_version": "1.2.0",
          "state": {
            "_model_module": "@jupyter-widgets/base",
            "_model_module_version": "1.2.0",
            "_model_name": "LayoutModel",
            "_view_count": null,
            "_view_module": "@jupyter-widgets/base",
            "_view_module_version": "1.2.0",
            "_view_name": "LayoutView",
            "align_content": null,
            "align_items": null,
            "align_self": null,
            "border": null,
            "bottom": null,
            "display": null,
            "flex": null,
            "flex_flow": null,
            "grid_area": null,
            "grid_auto_columns": null,
            "grid_auto_flow": null,
            "grid_auto_rows": null,
            "grid_column": null,
            "grid_gap": null,
            "grid_row": null,
            "grid_template_areas": null,
            "grid_template_columns": null,
            "grid_template_rows": null,
            "height": null,
            "justify_content": null,
            "justify_items": null,
            "left": null,
            "margin": null,
            "max_height": null,
            "max_width": null,
            "min_height": null,
            "min_width": null,
            "object_fit": null,
            "object_position": null,
            "order": null,
            "overflow": null,
            "overflow_x": null,
            "overflow_y": null,
            "padding": null,
            "right": null,
            "top": null,
            "visibility": null,
            "width": null
          }
        },
        "f4c908b3847b41b2b2f6e9bd5313659c": {
          "model_module": "@jupyter-widgets/controls",
          "model_name": "DescriptionStyleModel",
          "model_module_version": "1.5.0",
          "state": {
            "_model_module": "@jupyter-widgets/controls",
            "_model_module_version": "1.5.0",
            "_model_name": "DescriptionStyleModel",
            "_view_count": null,
            "_view_module": "@jupyter-widgets/base",
            "_view_module_version": "1.2.0",
            "_view_name": "StyleView",
            "description_width": ""
          }
        }
      }
    },
    "kaggle": {
      "accelerator": "gpu",
      "dataSources": [],
      "dockerImageVersionId": 31012,
      "isInternetEnabled": true,
      "language": "python",
      "sourceType": "notebook",
      "isGpuEnabled": true
    }
  },
  "nbformat_minor": 0,
  "nbformat": 4,
  "cells": [
    {
      "cell_type": "markdown",
      "source": [
        "## Recipe-2.The Tokenizers Toolkit:Encoding, decoding, padding, truncation, attention masks"
      ],
      "metadata": {
        "id": "YCepzecRobE8"
      }
    },
    {
      "cell_type": "code",
      "source": [
        "pip install transformers torch sentencepiece"
      ],
      "metadata": {
        "colab": {
          "base_uri": "https://localhost:8080/"
        },
        "id": "KaXzs35548kB",
        "outputId": "8881238f-90a7-4583-ca88-27ff0c4eb35b",
        "trusted": true,
        "execution": {
          "iopub.status.busy": "2025-05-11T09:36:02.750446Z",
          "iopub.execute_input": "2025-05-11T09:36:02.751082Z",
          "iopub.status.idle": "2025-05-11T09:36:05.907361Z",
          "shell.execute_reply.started": "2025-05-11T09:36:02.751055Z",
          "shell.execute_reply": "2025-05-11T09:36:05.906445Z"
        }
      },
      "outputs": [
        {
          "name": "stdout",
          "text": "Requirement already satisfied: transformers in /usr/local/lib/python3.11/dist-packages (4.51.1)\nRequirement already satisfied: torch in /usr/local/lib/python3.11/dist-packages (2.5.1+cu124)\nRequirement already satisfied: sentencepiece in /usr/local/lib/python3.11/dist-packages (0.2.0)\nRequirement already satisfied: filelock in /usr/local/lib/python3.11/dist-packages (from transformers) (3.18.0)\nRequirement already satisfied: huggingface-hub<1.0,>=0.30.0 in /usr/local/lib/python3.11/dist-packages (from transformers) (0.30.2)\nRequirement already satisfied: numpy>=1.17 in /usr/local/lib/python3.11/dist-packages (from transformers) (1.26.4)\nRequirement already satisfied: packaging>=20.0 in /usr/local/lib/python3.11/dist-packages (from transformers) (24.2)\nRequirement already satisfied: pyyaml>=5.1 in /usr/local/lib/python3.11/dist-packages (from transformers) (6.0.2)\nRequirement already satisfied: regex!=2019.12.17 in /usr/local/lib/python3.11/dist-packages (from transformers) (2024.11.6)\nRequirement already satisfied: requests in /usr/local/lib/python3.11/dist-packages (from transformers) (2.32.3)\nRequirement already satisfied: tokenizers<0.22,>=0.21 in /usr/local/lib/python3.11/dist-packages (from transformers) (0.21.0)\nRequirement already satisfied: safetensors>=0.4.3 in /usr/local/lib/python3.11/dist-packages (from transformers) (0.5.2)\nRequirement already satisfied: tqdm>=4.27 in /usr/local/lib/python3.11/dist-packages (from transformers) (4.67.1)\nRequirement already satisfied: typing-extensions>=4.8.0 in /usr/local/lib/python3.11/dist-packages (from torch) (4.13.1)\nRequirement already satisfied: networkx in /usr/local/lib/python3.11/dist-packages (from torch) (3.4.2)\nRequirement already satisfied: jinja2 in /usr/local/lib/python3.11/dist-packages (from torch) (3.1.6)\nRequirement already satisfied: fsspec in /usr/local/lib/python3.11/dist-packages (from torch) (2024.12.0)\nRequirement already satisfied: nvidia-cuda-nvrtc-cu12==12.4.127 in /usr/local/lib/python3.11/dist-packages (from torch) (12.4.127)\nRequirement already satisfied: nvidia-cuda-runtime-cu12==12.4.127 in /usr/local/lib/python3.11/dist-packages (from torch) (12.4.127)\nRequirement already satisfied: nvidia-cuda-cupti-cu12==12.4.127 in /usr/local/lib/python3.11/dist-packages (from torch) (12.4.127)\nRequirement already satisfied: nvidia-cudnn-cu12==9.1.0.70 in /usr/local/lib/python3.11/dist-packages (from torch) (9.1.0.70)\nRequirement already satisfied: nvidia-cublas-cu12==12.4.5.8 in /usr/local/lib/python3.11/dist-packages (from torch) (12.4.5.8)\nRequirement already satisfied: nvidia-cufft-cu12==11.2.1.3 in /usr/local/lib/python3.11/dist-packages (from torch) (11.2.1.3)\nRequirement already satisfied: nvidia-curand-cu12==10.3.5.147 in /usr/local/lib/python3.11/dist-packages (from torch) (10.3.5.147)\nRequirement already satisfied: nvidia-cusolver-cu12==11.6.1.9 in /usr/local/lib/python3.11/dist-packages (from torch) (11.6.1.9)\nRequirement already satisfied: nvidia-cusparse-cu12==12.3.1.170 in /usr/local/lib/python3.11/dist-packages (from torch) (12.3.1.170)\nRequirement already satisfied: nvidia-nccl-cu12==2.21.5 in /usr/local/lib/python3.11/dist-packages (from torch) (2.21.5)\nRequirement already satisfied: nvidia-nvtx-cu12==12.4.127 in /usr/local/lib/python3.11/dist-packages (from torch) (12.4.127)\nRequirement already satisfied: nvidia-nvjitlink-cu12==12.4.127 in /usr/local/lib/python3.11/dist-packages (from torch) (12.4.127)\nRequirement already satisfied: triton==3.1.0 in /usr/local/lib/python3.11/dist-packages (from torch) (3.1.0)\nRequirement already satisfied: sympy==1.13.1 in /usr/local/lib/python3.11/dist-packages (from torch) (1.13.1)\nRequirement already satisfied: mpmath<1.4,>=1.1.0 in /usr/local/lib/python3.11/dist-packages (from sympy==1.13.1->torch) (1.3.0)\nRequirement already satisfied: mkl_fft in /usr/local/lib/python3.11/dist-packages (from numpy>=1.17->transformers) (1.3.8)\nRequirement already satisfied: mkl_random in /usr/local/lib/python3.11/dist-packages (from numpy>=1.17->transformers) (1.2.4)\nRequirement already satisfied: mkl_umath in /usr/local/lib/python3.11/dist-packages (from numpy>=1.17->transformers) (0.1.1)\nRequirement already satisfied: mkl in /usr/local/lib/python3.11/dist-packages (from numpy>=1.17->transformers) (2025.1.0)\nRequirement already satisfied: tbb4py in /usr/local/lib/python3.11/dist-packages (from numpy>=1.17->transformers) (2022.1.0)\nRequirement already satisfied: mkl-service in /usr/local/lib/python3.11/dist-packages (from numpy>=1.17->transformers) (2.4.1)\nRequirement already satisfied: MarkupSafe>=2.0 in /usr/local/lib/python3.11/dist-packages (from jinja2->torch) (3.0.2)\nRequirement already satisfied: charset-normalizer<4,>=2 in /usr/local/lib/python3.11/dist-packages (from requests->transformers) (3.4.1)\nRequirement already satisfied: idna<4,>=2.5 in /usr/local/lib/python3.11/dist-packages (from requests->transformers) (3.10)\nRequirement already satisfied: urllib3<3,>=1.21.1 in /usr/local/lib/python3.11/dist-packages (from requests->transformers) (2.3.0)\nRequirement already satisfied: certifi>=2017.4.17 in /usr/local/lib/python3.11/dist-packages (from requests->transformers) (2025.1.31)\nRequirement already satisfied: intel-openmp<2026,>=2024 in /usr/local/lib/python3.11/dist-packages (from mkl->numpy>=1.17->transformers) (2024.2.0)\nRequirement already satisfied: tbb==2022.* in /usr/local/lib/python3.11/dist-packages (from mkl->numpy>=1.17->transformers) (2022.1.0)\nRequirement already satisfied: tcmlib==1.* in /usr/local/lib/python3.11/dist-packages (from tbb==2022.*->mkl->numpy>=1.17->transformers) (1.2.0)\nRequirement already satisfied: intel-cmplr-lib-rt in /usr/local/lib/python3.11/dist-packages (from mkl_umath->numpy>=1.17->transformers) (2024.2.0)\nRequirement already satisfied: intel-cmplr-lib-ur==2024.2.0 in /usr/local/lib/python3.11/dist-packages (from intel-openmp<2026,>=2024->mkl->numpy>=1.17->transformers) (2024.2.0)\nNote: you may need to restart the kernel to use updated packages.\n",
          "output_type": "stream"
        }
      ],
      "execution_count": null
    },
    {
      "cell_type": "code",
      "source": [
        "# --- Recipe: The Tokenizer's Toolkit ---\n",
        "# Goal: Demonstrate core tokenizer functionalities: encoding, decoding, special tokens, padding, truncation.\n",
        "# Library: Hugging Face Transformers\n",
        "# Note: Ensure you have run `pip install transformers torch sentencepiece` (SentencePiece needed for Gemma/Mistral).\n",
        "\n",
        "from transformers import AutoTokenizer\n",
        "from huggingface_hub import login"
      ],
      "metadata": {
        "trusted": true,
        "execution": {
          "iopub.status.busy": "2025-05-11T09:36:05.909222Z",
          "iopub.execute_input": "2025-05-11T09:36:05.909456Z",
          "iopub.status.idle": "2025-05-11T09:36:09.207853Z",
          "shell.execute_reply.started": "2025-05-11T09:36:05.909436Z",
          "shell.execute_reply": "2025-05-11T09:36:09.207273Z"
        },
        "id": "nU9BEs08Y6Bt"
      },
      "outputs": [],
      "execution_count": null
    },
    {
      "cell_type": "code",
      "source": [
        "from huggingface_hub import HfApi\n",
        "\n",
        "api = HfApi()\n",
        "whoami = api.whoami(token=\"hf_xxxxxxxxxxxxxx\")\n",
        "print(whoami)\n",
        "login(\"hf_xxxxxxxxxxxxxxxxx\")"
      ],
      "metadata": {
        "trusted": true,
        "execution": {
          "iopub.status.busy": "2025-05-11T09:36:09.208521Z",
          "iopub.execute_input": "2025-05-11T09:36:09.208825Z",
          "iopub.status.idle": "2025-05-11T09:36:09.590938Z",
          "shell.execute_reply.started": "2025-05-11T09:36:09.208807Z",
          "shell.execute_reply": "2025-05-11T09:36:09.590082Z"
        },
        "id": "OmfEmePiY6Bu",
        "outputId": "16fe630a-b91c-472e-bb9e-9795b06f689d"
      },
      "outputs": [
        {
          "name": "stdout",
          "text": "{'type': 'user', 'id': '65feba1b57cc48d9d30d11cf', 'name': 'kalpasubbaiah', 'fullname': 'Kalpa Subbaiah', 'email': 'kalpa.subbaiah@gmail.com', 'emailVerified': True, 'canPay': False, 'periodEnd': None, 'isPro': False, 'avatarUrl': '/avatars/319094e0eb55ce89334d7bd3685ceeb0.svg', 'orgs': [], 'auth': {'type': 'access_token', 'accessToken': {'displayName': 'hugging_face_token_read', 'role': 'read', 'createdAt': '2025-04-22T09:03:46.223Z'}}}\n",
          "output_type": "stream"
        }
      ],
      "execution_count": null
    },
    {
      "cell_type": "code",
      "source": [
        "# --- Configuration ---\n",
        "# Choose a model ID whose tokenizer you want to explore.\n",
        "# Using Gemma here as SentencePiece tokenizers are common.\n",
        "model_id = \"google/gemma-2b-it\"\n",
        "# Other options: \"mistralai/Mistral-7B-v0.1\", \"bert-base-uncased\" (WordPiece), \"gpt2\" (BPE)"
      ],
      "metadata": {
        "trusted": true,
        "execution": {
          "iopub.status.busy": "2025-05-11T09:36:09.592535Z",
          "iopub.execute_input": "2025-05-11T09:36:09.592747Z",
          "iopub.status.idle": "2025-05-11T09:36:09.596320Z",
          "shell.execute_reply.started": "2025-05-11T09:36:09.592731Z",
          "shell.execute_reply": "2025-05-11T09:36:09.595482Z"
        },
        "id": "9mNi7L6SY6Bu"
      },
      "outputs": [],
      "execution_count": null
    },
    {
      "cell_type": "code",
      "source": [
        "print(f\"Loading tokenizer for model: {model_id}\")\n",
        "try:\n",
        "    tokenizer = AutoTokenizer.from_pretrained(model_id)\n",
        "    print(\"Tokenizer loaded successfully.\")\n",
        "    print(f\"Tokenizer class: {tokenizer.__class__}\")\n",
        "    print(f\"Vocabulary size: {tokenizer.vocab_size}\")\n",
        "    print(f\"Special tokens: {tokenizer.special_tokens_map}\")\n",
        "    print(f\"PAD token: '{tokenizer.pad_token}', ID: {tokenizer.pad_token_id}\")\n",
        "    print(f\"UNK token: '{tokenizer.unk_token}', ID: {tokenizer.unk_token_id}\")\n",
        "    print(f\"BOS token: '{tokenizer.bos_token}', ID: {tokenizer.bos_token_id}\") # Beginning of Sequence\n",
        "    print(f\"EOS token: '{tokenizer.eos_token}', ID: {tokenizer.eos_token_id}\") # End of Sequence\n",
        "except Exception as e:\n",
        "    print(f\"Error loading tokenizer: {e}\")\n",
        "    exit()"
      ],
      "metadata": {
        "trusted": true,
        "execution": {
          "iopub.status.busy": "2025-05-11T09:36:09.597160Z",
          "iopub.execute_input": "2025-05-11T09:36:09.597967Z",
          "iopub.status.idle": "2025-05-11T09:36:10.958138Z",
          "shell.execute_reply.started": "2025-05-11T09:36:09.597945Z",
          "shell.execute_reply": "2025-05-11T09:36:10.957246Z"
        },
        "id": "TsljvJs_Y6Bv",
        "outputId": "f98f670b-c370-43a6-95b2-7082566b138e"
      },
      "outputs": [
        {
          "name": "stdout",
          "text": "Loading tokenizer for model: google/gemma-2b-it\nTokenizer loaded successfully.\nTokenizer class: <class 'transformers.models.gemma.tokenization_gemma_fast.GemmaTokenizerFast'>\nVocabulary size: 256000\nSpecial tokens: {'bos_token': '<bos>', 'eos_token': '<eos>', 'unk_token': '<unk>', 'pad_token': '<pad>', 'additional_special_tokens': ['<start_of_turn>', '<end_of_turn>']}\nPAD token: '<pad>', ID: 0\nUNK token: '<unk>', ID: 3\nBOS token: '<bos>', ID: 2\nEOS token: '<eos>', ID: 1\n",
          "output_type": "stream"
        }
      ],
      "execution_count": null
    },
    {
      "cell_type": "code",
      "source": [
        "# --- Basic Encoding & Decoding ---\n",
        "text = \"LLMs need careful data preparation.\"\n",
        "print(f\"\\nOriginal text: '{text}'\")\n",
        "\n",
        "# Encode: Text -> Token IDs\n",
        "# `encode` is a simple method, often `tokenizer()` or `tokenizer.encode_plus()` offer more options.\n",
        "encoded_ids = tokenizer.encode(text)\n",
        "print(f\"Encoded IDs: {encoded_ids}\")\n",
        "\n",
        "# Decode: Token IDs -> Text\n",
        "decoded_text = tokenizer.decode(encoded_ids)\n",
        "print(f\"Decoded text: '{decoded_text}'\")"
      ],
      "metadata": {
        "trusted": true,
        "execution": {
          "iopub.status.busy": "2025-05-11T09:36:10.959034Z",
          "iopub.execute_input": "2025-05-11T09:36:10.959366Z",
          "iopub.status.idle": "2025-05-11T09:36:10.965422Z",
          "shell.execute_reply.started": "2025-05-11T09:36:10.959335Z",
          "shell.execute_reply": "2025-05-11T09:36:10.964774Z"
        },
        "id": "e_kZ80f6Y6Bv",
        "outputId": "af01587c-71a2-4d10-c27c-671d0cf3e9c2"
      },
      "outputs": [
        {
          "name": "stdout",
          "text": "\nOriginal text: 'LLMs need careful data preparation.'\nEncoded IDs: [2, 1650, 14816, 1476, 15136, 1423, 12988, 235265]\nDecoded text: '<bos>LLMs need careful data preparation.'\n",
          "output_type": "stream"
        }
      ],
      "execution_count": null
    },
    {
      "cell_type": "code",
      "source": [
        "# --- Using the Tokenizer Call Method (Recommended) ---\n",
        "# The __call__ method handles multiple inputs, padding, truncation, and returns attention masks.\n",
        "texts = [\n",
        "    \"This is a short sequence.\",\n",
        "    \"This sequence is considerably longer and will likely exceed the truncation length.\",\n",
        "    \"A third sequence.\"\n",
        "]\n",
        "print(f\"\\nBatch of texts:\\n{texts}\")\n",
        "\n",
        "# Tokenize the batch with padding and truncation\n",
        "# - padding='longest': Pad sequences to the length of the longest sequence in the batch.\n",
        "# - truncation=True: Truncate sequences longer than the model's max length (or specified max_length).\n",
        "# - max_length: Explicitly set a maximum length (optional, defaults often to model's capability).\n",
        "# - return_tensors='pt': Return results as PyTorch tensors (use 'tf' for TensorFlow, 'np' for NumPy).\n",
        "tokenized_output = tokenizer(\n",
        "    texts,\n",
        "    padding='longest', # Pad to longest sequence in batch\n",
        "    truncation=True,   # Truncate sequences longer than max_length\n",
        "    max_length=15,     # Set an example max length\n",
        "    return_tensors='pt' # Return PyTorch tensors\n",
        ")\n",
        "\n",
        "print(\"\\nTokenized Output (Batch):\")\n",
        "print(f\"- Input IDs:\\n{tokenized_output['input_ids']}\")\n",
        "print(f\"- Attention Mask:\\n{tokenized_output['attention_mask']}\") # 1 for real tokens, 0 for PAD tokens\n"
      ],
      "metadata": {
        "trusted": true,
        "execution": {
          "iopub.status.busy": "2025-05-11T09:36:10.966127Z",
          "iopub.execute_input": "2025-05-11T09:36:10.966384Z",
          "iopub.status.idle": "2025-05-11T09:36:10.984222Z",
          "shell.execute_reply.started": "2025-05-11T09:36:10.966364Z",
          "shell.execute_reply": "2025-05-11T09:36:10.983600Z"
        },
        "id": "eJbiILCNY6Bw",
        "outputId": "099d1108-fd46-48f8-fc5c-3d1fa672fdca"
      },
      "outputs": [
        {
          "name": "stdout",
          "text": "\nBatch of texts:\n['This is a short sequence.', 'This sequence is considerably longer and will likely exceed the truncation length.', 'A third sequence.']\n\nTokenized Output (Batch):\n- Input IDs:\ntensor([[     0,      0,      0,      0,      0,      0,      0,      2,   1596,\n            603,    476,   3309,  10629, 235265],\n        [     2,   1596,  10629,    603,  27681,   5543,    578,    877,   5476,\n          15542,    573, 190604,   4191, 235265],\n        [     0,      0,      0,      0,      0,      0,      0,      0,      0,\n              2, 235280,   4906,  10629, 235265]])\n- Attention Mask:\ntensor([[0, 0, 0, 0, 0, 0, 0, 1, 1, 1, 1, 1, 1, 1],\n        [1, 1, 1, 1, 1, 1, 1, 1, 1, 1, 1, 1, 1, 1],\n        [0, 0, 0, 0, 0, 0, 0, 0, 0, 1, 1, 1, 1, 1]])\n",
          "output_type": "stream"
        }
      ],
      "execution_count": null
    },
    {
      "cell_type": "code",
      "source": [
        "# --- Inspecting Padding and Attention Mask ---\n",
        "print(\"\\nInspecting the first sequence's padding:\")\n",
        "first_seq_ids = tokenized_output['input_ids'][0]\n",
        "first_seq_mask = tokenized_output['attention_mask'][0]\n",
        "print(f\"- Padded IDs: {first_seq_ids.tolist()}\") # .tolist() for cleaner printing\n",
        "print(f\"- Corresponding Mask: {first_seq_mask.tolist()}\")\n",
        "# Decode manually to see the padding token (if PAD token ID is known)\n",
        "# Note: decode skips special tokens by default unless skip_special_tokens=False\n",
        "print(f\"- Decoded (incl. PAD if visible): '{tokenizer.decode(first_seq_ids, skip_special_tokens=False)}'\")\n",
        "print(f\"- Decoded (default, skips PAD): '{tokenizer.decode(first_seq_ids, skip_special_tokens=True)}'\")\n"
      ],
      "metadata": {
        "trusted": true,
        "execution": {
          "iopub.status.busy": "2025-05-11T09:36:10.985021Z",
          "iopub.execute_input": "2025-05-11T09:36:10.985295Z",
          "iopub.status.idle": "2025-05-11T09:36:11.003491Z",
          "shell.execute_reply.started": "2025-05-11T09:36:10.985259Z",
          "shell.execute_reply": "2025-05-11T09:36:11.002947Z"
        },
        "id": "WoaMk3xwY6Bw",
        "outputId": "f5b38833-4c7f-434e-fc0f-6512c57d2c80"
      },
      "outputs": [
        {
          "name": "stdout",
          "text": "\nInspecting the first sequence's padding:\n- Padded IDs: [0, 0, 0, 0, 0, 0, 0, 2, 1596, 603, 476, 3309, 10629, 235265]\n- Corresponding Mask: [0, 0, 0, 0, 0, 0, 0, 1, 1, 1, 1, 1, 1, 1]\n- Decoded (incl. PAD if visible): '<pad><pad><pad><pad><pad><pad><pad><bos>This is a short sequence.'\n- Decoded (default, skips PAD): 'This is a short sequence.'\n",
          "output_type": "stream"
        }
      ],
      "execution_count": null
    },
    {
      "cell_type": "code",
      "source": [
        "# --- Inspecting Truncation ---\n",
        "print(\"\\nInspecting the second sequence's truncation:\")\n",
        "second_seq_ids = tokenized_output['input_ids'][1]\n",
        "print(f\"- Truncated IDs (length {len(second_seq_ids)}): {second_seq_ids.tolist()}\")\n",
        "print(f\"- Decoded truncated text: '{tokenizer.decode(second_seq_ids)}'\")\n",
        "# Compare length to max_length defined above (15)\n",
        "\n",
        "# --- End of Recipe ---"
      ],
      "metadata": {
        "colab": {
          "base_uri": "https://localhost:8080/",
          "height": 946,
          "referenced_widgets": [
            "1789d08f757148c19310d75958809610",
            "4e8dc040d6874ac6a8a179636b640620",
            "f9cc83ccb47e440bb817589822c40579",
            "d4d92533874640988657815d6035dba2",
            "40831aa81d12452cb5dcb0c98dab1ff1",
            "40381045a5854367940d08cc43dcf74a",
            "71e6d4615b3c41659816241080c35445",
            "2c20d0fdbb0347d18f6d11d89b58253a",
            "090832c7215147e0b5c8a84d2a697363",
            "fa2e49a679c540da8ec7f1bb316a0f7c",
            "579bcd76eedf4925b638e3c93ec93dc0",
            "7bad498562004d56b21d5dbcd7a18cee",
            "ea8a16681ecd4ba2b4edf04463a40463",
            "b6df11d216f745a8b1588bd262a18314",
            "01d037dbe67d4619958901a2b016d714",
            "dfd007059976496397c011080d9cc633",
            "d58acff0564440729e23d7fc2e859f4b",
            "5994d5ebef17481dbe599f9c44273a50",
            "9be5c8b2a67b474295896ab23fafa785",
            "9a1f6128f7ec4e51a6bfbd90a2ea4dfd",
            "df71bc97e983487fbfdebe2f6166f20d",
            "da4fe99f52694b6e9687c95d2413a678",
            "c0b07354c4b54c22891598113a8af423",
            "8d5f3386eaf34d6f8d5c7c8af8ac1479",
            "d0d0832f4a4b482da9453d91fbd95e8f",
            "5297861b2d6e43fa9430ffd3323f1ad3",
            "3511f6cc327a4e7ab1ac2472485b4917",
            "a656da7ecb1d4a0497b8c6f1b807af91",
            "3b16880672b343eb9875857bf8079ec3",
            "95f385750fbf48b280be208593c49eea",
            "c8ee0ac33be84a37af2a26cae209f46d",
            "0e70e545897b4e4298b394254e63da21",
            "64c38ecda4de48199a72a6f5da69cb17",
            "63fc53487ef743c0b1f798c9d31ed12a",
            "375cd06d21914ec2922f0c657a4798e3",
            "60c8bf86ce0649cd8ec1567b4051817d",
            "e7935da8863c432db7370414f30561b6",
            "2ba87a4820174951b3dd34611daacae6",
            "da3ee93204f9476c9938803a3935c83b",
            "98f83b9e615449dc867c408bbdc13d37",
            "886d4708f8ac43e1a44420f40df9f44f",
            "29281e630ac745a19bd7d544743d5802",
            "2839c5d56b7547f8af9ef7075a0e0f97",
            "f4c908b3847b41b2b2f6e9bd5313659c"
          ]
        },
        "id": "GmM1O8NrZhpN",
        "outputId": "2db2bc8c-e8ef-4ceb-cece-75c8226ae916",
        "trusted": true,
        "execution": {
          "iopub.status.busy": "2025-05-11T09:36:11.004159Z",
          "iopub.execute_input": "2025-05-11T09:36:11.004361Z",
          "iopub.status.idle": "2025-05-11T09:36:11.024724Z",
          "shell.execute_reply.started": "2025-05-11T09:36:11.004345Z",
          "shell.execute_reply": "2025-05-11T09:36:11.023952Z"
        }
      },
      "outputs": [
        {
          "name": "stdout",
          "text": "\nInspecting the second sequence's truncation:\n- Truncated IDs (length 14): [2, 1596, 10629, 603, 27681, 5543, 578, 877, 5476, 15542, 573, 190604, 4191, 235265]\n- Decoded truncated text: '<bos>This sequence is considerably longer and will likely exceed the truncation length.'\n",
          "output_type": "stream"
        }
      ],
      "execution_count": null
    },
    {
      "cell_type": "markdown",
      "source": [
        "## Recipe-1: Loading Custom Ingredients (Local Files)"
      ],
      "metadata": {
        "id": "i8Tk3YasZmUW"
      }
    },
    {
      "cell_type": "code",
      "source": [
        "pip install datasets pandas"
      ],
      "metadata": {
        "id": "xst-bQmR_Yyr",
        "outputId": "de54c632-c726-4275-f1b4-e3b953b399c4",
        "colab": {
          "base_uri": "https://localhost:8080/"
        },
        "trusted": true,
        "execution": {
          "iopub.status.busy": "2025-05-11T09:36:11.027139Z",
          "iopub.execute_input": "2025-05-11T09:36:11.027431Z",
          "iopub.status.idle": "2025-05-11T09:36:14.142919Z",
          "shell.execute_reply.started": "2025-05-11T09:36:11.027412Z",
          "shell.execute_reply": "2025-05-11T09:36:14.141943Z"
        }
      },
      "outputs": [
        {
          "name": "stderr",
          "text": "huggingface/tokenizers: The current process just got forked, after parallelism has already been used. Disabling parallelism to avoid deadlocks...\nTo disable this warning, you can either:\n\t- Avoid using `tokenizers` before the fork if possible\n\t- Explicitly set the environment variable TOKENIZERS_PARALLELISM=(true | false)\n",
          "output_type": "stream"
        },
        {
          "name": "stdout",
          "text": "Requirement already satisfied: datasets in /usr/local/lib/python3.11/dist-packages (3.5.0)\nRequirement already satisfied: pandas in /usr/local/lib/python3.11/dist-packages (2.2.3)\nRequirement already satisfied: filelock in /usr/local/lib/python3.11/dist-packages (from datasets) (3.18.0)\nRequirement already satisfied: numpy>=1.17 in /usr/local/lib/python3.11/dist-packages (from datasets) (1.26.4)\nRequirement already satisfied: pyarrow>=15.0.0 in /usr/local/lib/python3.11/dist-packages (from datasets) (19.0.1)\nRequirement already satisfied: dill<0.3.9,>=0.3.0 in /usr/local/lib/python3.11/dist-packages (from datasets) (0.3.8)\nRequirement already satisfied: requests>=2.32.2 in /usr/local/lib/python3.11/dist-packages (from datasets) (2.32.3)\nRequirement already satisfied: tqdm>=4.66.3 in /usr/local/lib/python3.11/dist-packages (from datasets) (4.67.1)\nRequirement already satisfied: xxhash in /usr/local/lib/python3.11/dist-packages (from datasets) (3.5.0)\nRequirement already satisfied: multiprocess<0.70.17 in /usr/local/lib/python3.11/dist-packages (from datasets) (0.70.16)\nRequirement already satisfied: fsspec<=2024.12.0,>=2023.1.0 in /usr/local/lib/python3.11/dist-packages (from fsspec[http]<=2024.12.0,>=2023.1.0->datasets) (2024.12.0)\nRequirement already satisfied: aiohttp in /usr/local/lib/python3.11/dist-packages (from datasets) (3.11.16)\nRequirement already satisfied: huggingface-hub>=0.24.0 in /usr/local/lib/python3.11/dist-packages (from datasets) (0.30.2)\nRequirement already satisfied: packaging in /usr/local/lib/python3.11/dist-packages (from datasets) (24.2)\nRequirement already satisfied: pyyaml>=5.1 in /usr/local/lib/python3.11/dist-packages (from datasets) (6.0.2)\nRequirement already satisfied: python-dateutil>=2.8.2 in /usr/local/lib/python3.11/dist-packages (from pandas) (2.9.0.post0)\nRequirement already satisfied: pytz>=2020.1 in /usr/local/lib/python3.11/dist-packages (from pandas) (2025.2)\nRequirement already satisfied: tzdata>=2022.7 in /usr/local/lib/python3.11/dist-packages (from pandas) (2025.2)\nRequirement already satisfied: aiohappyeyeballs>=2.3.0 in /usr/local/lib/python3.11/dist-packages (from aiohttp->datasets) (2.6.1)\nRequirement already satisfied: aiosignal>=1.1.2 in /usr/local/lib/python3.11/dist-packages (from aiohttp->datasets) (1.3.2)\nRequirement already satisfied: attrs>=17.3.0 in /usr/local/lib/python3.11/dist-packages (from aiohttp->datasets) (25.3.0)\nRequirement already satisfied: frozenlist>=1.1.1 in /usr/local/lib/python3.11/dist-packages (from aiohttp->datasets) (1.5.0)\nRequirement already satisfied: multidict<7.0,>=4.5 in /usr/local/lib/python3.11/dist-packages (from aiohttp->datasets) (6.2.0)\nRequirement already satisfied: propcache>=0.2.0 in /usr/local/lib/python3.11/dist-packages (from aiohttp->datasets) (0.3.1)\nRequirement already satisfied: yarl<2.0,>=1.17.0 in /usr/local/lib/python3.11/dist-packages (from aiohttp->datasets) (1.19.0)\nRequirement already satisfied: typing-extensions>=3.7.4.3 in /usr/local/lib/python3.11/dist-packages (from huggingface-hub>=0.24.0->datasets) (4.13.1)\nRequirement already satisfied: mkl_fft in /usr/local/lib/python3.11/dist-packages (from numpy>=1.17->datasets) (1.3.8)\nRequirement already satisfied: mkl_random in /usr/local/lib/python3.11/dist-packages (from numpy>=1.17->datasets) (1.2.4)\nRequirement already satisfied: mkl_umath in /usr/local/lib/python3.11/dist-packages (from numpy>=1.17->datasets) (0.1.1)\nRequirement already satisfied: mkl in /usr/local/lib/python3.11/dist-packages (from numpy>=1.17->datasets) (2025.1.0)\nRequirement already satisfied: tbb4py in /usr/local/lib/python3.11/dist-packages (from numpy>=1.17->datasets) (2022.1.0)\nRequirement already satisfied: mkl-service in /usr/local/lib/python3.11/dist-packages (from numpy>=1.17->datasets) (2.4.1)\nRequirement already satisfied: six>=1.5 in /usr/local/lib/python3.11/dist-packages (from python-dateutil>=2.8.2->pandas) (1.17.0)\nRequirement already satisfied: charset-normalizer<4,>=2 in /usr/local/lib/python3.11/dist-packages (from requests>=2.32.2->datasets) (3.4.1)\nRequirement already satisfied: idna<4,>=2.5 in /usr/local/lib/python3.11/dist-packages (from requests>=2.32.2->datasets) (3.10)\nRequirement already satisfied: urllib3<3,>=1.21.1 in /usr/local/lib/python3.11/dist-packages (from requests>=2.32.2->datasets) (2.3.0)\nRequirement already satisfied: certifi>=2017.4.17 in /usr/local/lib/python3.11/dist-packages (from requests>=2.32.2->datasets) (2025.1.31)\nRequirement already satisfied: intel-openmp<2026,>=2024 in /usr/local/lib/python3.11/dist-packages (from mkl->numpy>=1.17->datasets) (2024.2.0)\nRequirement already satisfied: tbb==2022.* in /usr/local/lib/python3.11/dist-packages (from mkl->numpy>=1.17->datasets) (2022.1.0)\nRequirement already satisfied: tcmlib==1.* in /usr/local/lib/python3.11/dist-packages (from tbb==2022.*->mkl->numpy>=1.17->datasets) (1.2.0)\nRequirement already satisfied: intel-cmplr-lib-rt in /usr/local/lib/python3.11/dist-packages (from mkl_umath->numpy>=1.17->datasets) (2024.2.0)\nRequirement already satisfied: intel-cmplr-lib-ur==2024.2.0 in /usr/local/lib/python3.11/dist-packages (from intel-openmp<2026,>=2024->mkl->numpy>=1.17->datasets) (2024.2.0)\nNote: you may need to restart the kernel to use updated packages.\n",
          "output_type": "stream"
        }
      ],
      "execution_count": null
    },
    {
      "cell_type": "markdown",
      "source": [
        "DATASETS"
      ],
      "metadata": {
        "id": "Dsadd2r3Y6By"
      }
    },
    {
      "cell_type": "code",
      "source": [
        "# --- Recipe: Loading Custom Ingredients (Local Files) ---\n",
        "# Goal: Load data from local CSV and JSON Lines files into a Hugging Face Dataset object.\n",
        "# Library: Hugging Face Datasets\n",
        "# Note: Ensure you have run `pip install datasets pandas`\n",
        "\n",
        "import os\n",
        "from datasets import load_dataset\n",
        "import json\n",
        "import csv\n",
        "\n",
        "# --- 1. Create Dummy Data Files ---\n",
        "# Create a temporary directory for our data\n",
        "data_dir = \"./temp_custom_data\"\n",
        "os.makedirs(data_dir, exist_ok=True)\n",
        "\n",
        "# Create a dummy CSV file\n",
        "csv_file_path = os.path.join(data_dir, \"recipes.csv\")\n",
        "csv_data = [\n",
        "    {\"id\": 1, \"dish_name\": \"Spaghetti Carbonara\", \"prep_time_mins\": 15, \"ingredients\": \"Pasta, Eggs, Pancetta, Cheese\"},\n",
        "    {\"id\": 2, \"dish_name\": \"Chicken Curry\", \"prep_time_mins\": 20, \"ingredients\": \"Chicken, Onion, Tomato, Spices\"},\n",
        "    {\"id\": 3, \"dish_name\": \"Vegetable Stir-fry\", \"prep_time_mins\": 10, \"ingredients\": \"Broccoli, Peppers, Soy Sauce, Noodles\"}\n",
        "]\n",
        "print(f\"Creating dummy CSV file: {csv_file_path}\")\n",
        "with open(csv_file_path, 'w', newline='', encoding='utf-8') as f:\n",
        "    writer = csv.DictWriter(f, fieldnames=csv_data[0].keys())\n",
        "    writer.writeheader()\n",
        "    writer.writerows(csv_data)\n",
        "\n",
        "# Create a dummy JSON Lines file (.jsonl)\n",
        "jsonl_file_path = os.path.join(data_dir, \"instructions.jsonl\")\n",
        "jsonl_data = [\n",
        "    {\"instruction\": \"Make a cup of tea.\", \"input\": \"\", \"output\": \"Boil water, add tea bag to cup, pour water, steep, remove bag.\"},\n",
        "    {\"instruction\": \"Explain photosynthesis.\", \"input\": \"\", \"output\": \"Photosynthesis is the process plants use to convert light energy into chemical energy.\"},\n",
        "    {\"instruction\": \"Translate to French.\", \"input\": \"Hello world\", \"output\": \"Bonjour le monde\"}\n",
        "]\n",
        "print(f\"Creating dummy JSON Lines file: {jsonl_file_path}\")\n",
        "with open(jsonl_file_path, 'w', encoding='utf-8') as f:\n",
        "    for line in jsonl_data:\n",
        "        f.write(json.dumps(line) + '\\n')"
      ],
      "metadata": {
        "trusted": true,
        "execution": {
          "iopub.status.busy": "2025-05-11T09:36:14.144092Z",
          "iopub.execute_input": "2025-05-11T09:36:14.144437Z",
          "iopub.status.idle": "2025-05-11T09:36:14.824503Z",
          "shell.execute_reply.started": "2025-05-11T09:36:14.144392Z",
          "shell.execute_reply": "2025-05-11T09:36:14.823759Z"
        },
        "id": "K2rvKMdDY6By",
        "outputId": "18b5bfd5-de99-4b96-8446-a09ef84f3899"
      },
      "outputs": [
        {
          "name": "stdout",
          "text": "Creating dummy CSV file: ./temp_custom_data/recipes.csv\nCreating dummy JSON Lines file: ./temp_custom_data/instructions.jsonl\n",
          "output_type": "stream"
        }
      ],
      "execution_count": null
    },
    {
      "cell_type": "code",
      "source": [
        "# --- 2. Load Data using load_dataset ---\n",
        "\n",
        "print(\"\\n--- Loading CSV Data ---\")\n",
        "try:\n",
        "    # For CSV, specify 'csv' type and the path to the file(s)\n",
        "    # `data_files` can be a single path, a list of paths, or a dict for splits {'train': 'path1', 'test': 'path2'}\n",
        "    csv_dataset = load_dataset('csv', data_files=csv_file_path)\n",
        "    print(\"CSV dataset loaded successfully:\")\n",
        "    print(csv_dataset)\n",
        "    # Note: The default split name is 'train' when loading single files\n",
        "    print(\"\\nAccessing the 'train' split:\")\n",
        "    print(csv_dataset['train'])\n",
        "    print(\"\\nFirst example from CSV dataset:\")\n",
        "    print(csv_dataset['train'][0])\n",
        "    print(\"\\nFeatures (columns and types):\")\n",
        "    print(csv_dataset['train'].features)\n",
        "\n",
        "except Exception as e:\n",
        "    print(f\"Error loading CSV dataset: {e}\")\n",
        "\n",
        "\n",
        "print(\"\\n--- Loading JSON Lines Data ---\")\n",
        "try:\n",
        "    # For JSON Lines, specify 'json' type\n",
        "    jsonl_dataset = load_dataset('json', data_files=jsonl_file_path)\n",
        "    print(\"JSON Lines dataset loaded successfully:\")\n",
        "    print(jsonl_dataset)\n",
        "    print(\"\\nFirst example from JSON Lines dataset:\")\n",
        "    print(jsonl_dataset['train'][0])\n",
        "    print(\"\\nFeatures (columns and types):\")\n",
        "    print(jsonl_dataset['train'].features)\n",
        "\n",
        "except Exception as e:\n",
        "    print(f\"Error loading JSON Lines dataset: {e}\")"
      ],
      "metadata": {
        "trusted": true,
        "execution": {
          "iopub.status.busy": "2025-05-11T09:36:14.825314Z",
          "iopub.execute_input": "2025-05-11T09:36:14.825725Z",
          "iopub.status.idle": "2025-05-11T09:36:15.251803Z",
          "shell.execute_reply.started": "2025-05-11T09:36:14.825697Z",
          "shell.execute_reply": "2025-05-11T09:36:15.251224Z"
        },
        "colab": {
          "referenced_widgets": [
            "efa35a2f0118427bb63301a0c60c2dd6",
            "415ac878cfb84805b83db3d78e82f17e"
          ]
        },
        "id": "xzXN9DuEY6By",
        "outputId": "52eb837c-7a69-4e89-bb6b-7a721d4e30f8"
      },
      "outputs": [
        {
          "name": "stdout",
          "text": "\n--- Loading CSV Data ---\n",
          "output_type": "stream"
        },
        {
          "output_type": "display_data",
          "data": {
            "text/plain": "Generating train split: 0 examples [00:00, ? examples/s]",
            "application/vnd.jupyter.widget-view+json": {
              "version_major": 2,
              "version_minor": 0,
              "model_id": "efa35a2f0118427bb63301a0c60c2dd6"
            }
          },
          "metadata": {}
        },
        {
          "name": "stdout",
          "text": "CSV dataset loaded successfully:\nDatasetDict({\n    train: Dataset({\n        features: ['id', 'dish_name', 'prep_time_mins', 'ingredients'],\n        num_rows: 3\n    })\n})\n\nAccessing the 'train' split:\nDataset({\n    features: ['id', 'dish_name', 'prep_time_mins', 'ingredients'],\n    num_rows: 3\n})\n\nFirst example from CSV dataset:\n{'id': 1, 'dish_name': 'Spaghetti Carbonara', 'prep_time_mins': 15, 'ingredients': 'Pasta, Eggs, Pancetta, Cheese'}\n\nFeatures (columns and types):\n{'id': Value(dtype='int64', id=None), 'dish_name': Value(dtype='string', id=None), 'prep_time_mins': Value(dtype='int64', id=None), 'ingredients': Value(dtype='string', id=None)}\n\n--- Loading JSON Lines Data ---\n",
          "output_type": "stream"
        },
        {
          "output_type": "display_data",
          "data": {
            "text/plain": "Generating train split: 0 examples [00:00, ? examples/s]",
            "application/vnd.jupyter.widget-view+json": {
              "version_major": 2,
              "version_minor": 0,
              "model_id": "415ac878cfb84805b83db3d78e82f17e"
            }
          },
          "metadata": {}
        },
        {
          "name": "stdout",
          "text": "JSON Lines dataset loaded successfully:\nDatasetDict({\n    train: Dataset({\n        features: ['instruction', 'input', 'output'],\n        num_rows: 3\n    })\n})\n\nFirst example from JSON Lines dataset:\n{'instruction': 'Make a cup of tea.', 'input': '', 'output': 'Boil water, add tea bag to cup, pour water, steep, remove bag.'}\n\nFeatures (columns and types):\n{'instruction': Value(dtype='string', id=None), 'input': Value(dtype='string', id=None), 'output': Value(dtype='string', id=None)}\n",
          "output_type": "stream"
        }
      ],
      "execution_count": null
    },
    {
      "cell_type": "code",
      "source": [
        "# --- 3. Loading Multiple Files or Splits ---\n",
        "# If you have separate files for train/validation/test:\n",
        "# multi_file_dataset = load_dataset('csv', data_files={\n",
        "#     'train': ['path/to/train1.csv', 'path/to/train2.csv'],\n",
        "#     'validation': 'path/to/validation.csv',\n",
        "#     'test': 'path/to/test.csv'\n",
        "# })\n",
        "# print(\"\\nExample of loading multiple files/splits (structure):\")\n",
        "# print(multi_file_dataset) # This would show train, validation, test splits if paths were real\n",
        "\n",
        "# --- Cleanup Dummy Data (Optional) ---\n",
        "# import shutil\n",
        "# print(f\"\\nCleaning up temporary data directory: {data_dir}\")\n",
        "# shutil.rmtree(data_dir)\n",
        "\n",
        "# --- End of Recipe ---\n"
      ],
      "metadata": {
        "id": "MBHIzr42ZnB1",
        "trusted": true,
        "execution": {
          "iopub.status.busy": "2025-05-11T09:36:15.252843Z",
          "iopub.execute_input": "2025-05-11T09:36:15.253156Z",
          "iopub.status.idle": "2025-05-11T09:36:15.256690Z",
          "shell.execute_reply.started": "2025-05-11T09:36:15.253130Z",
          "shell.execute_reply": "2025-05-11T09:36:15.256090Z"
        }
      },
      "outputs": [],
      "execution_count": null
    },
    {
      "cell_type": "markdown",
      "source": [
        "## Recipe-4: Handling Massive Datasets with Streaming\n"
      ],
      "metadata": {
        "id": "CZzz3yicaof_"
      }
    },
    {
      "cell_type": "code",
      "source": [
        "# --- Recipe: Handling Massive Datasets with Streaming ---\n",
        "# Goal: Load and iterate over a large dataset from the Hub without downloading it all.\n",
        "# Library: Hugging Face Datasets\n",
        "# Note: Uses OSCAR dataset as an example - it's very large.\n",
        "\n",
        "from datasets import load_dataset\n",
        "from itertools import islice # Used to take only a few samples for demonstration\n",
        "\n",
        "# --- Configuration ---\n",
        "# OSCAR is a huge multilingual corpus. We'll use a subset.\n",
        "# Choose a configuration, e.g., 'unshuffled_deduplicated_en' for English.\n",
        "# Check the dataset card on Hugging Face Hub for available configurations.\n",
        "dataset_name = \"oscar\"\n",
        "config_name = \"unshuffled_deduplicated_en\" # English subset\n",
        "num_samples_to_show = 5 # How many samples to print"
      ],
      "metadata": {
        "trusted": true,
        "execution": {
          "iopub.status.busy": "2025-05-11T09:36:15.257446Z",
          "iopub.execute_input": "2025-05-11T09:36:15.257705Z",
          "iopub.status.idle": "2025-05-11T09:36:15.271464Z",
          "shell.execute_reply.started": "2025-05-11T09:36:15.257671Z",
          "shell.execute_reply": "2025-05-11T09:36:15.270833Z"
        },
        "id": "LvTTJstaY6Bz"
      },
      "outputs": [],
      "execution_count": null
    },
    {
      "cell_type": "code",
      "source": [
        "# --- Option 1: Standard Loading (Downloads Everything - DO NOT RUN FOR VERY LARGE DATASETS unless intended) ---\n",
        "# print(\"\\n--- Attempting Standard Load (Downloads dataset - potentially very large!) ---\")\n",
        "# try:\n",
        "#     # This will download and cache the dataset locally (can take hours/days and lots of disk space for OSCAR)\n",
        "#     # standard_dataset = load_dataset(dataset_name, config_name)\n",
        "#     # print(\"Standard dataset loaded (likely from cache if run before).\")\n",
        "#     # print(standard_dataset['train'])\n",
        "#     # print(f\"First example (standard): {standard_dataset['train'][0]}\")\n",
        "#     print(\"Standard load example commented out to prevent accidental large download.\")\n",
        "# except Exception as e:\n",
        "#     print(f\"Error during standard load: {e}\")\n"
      ],
      "metadata": {
        "trusted": true,
        "execution": {
          "iopub.status.busy": "2025-05-11T09:36:15.272202Z",
          "iopub.execute_input": "2025-05-11T09:36:15.272957Z",
          "iopub.status.idle": "2025-05-11T09:36:15.287527Z",
          "shell.execute_reply.started": "2025-05-11T09:36:15.272933Z",
          "shell.execute_reply": "2025-05-11T09:36:15.286838Z"
        },
        "id": "9znk-304Y6Bz"
      },
      "outputs": [],
      "execution_count": null
    },
    {
      "cell_type": "code",
      "source": [
        "# --- Option 2: Streaming Mode (Recommended for Large Datasets) ---\n",
        "print(f\"\\n--- Loading Dataset in Streaming Mode: {dataset_name} ({config_name}) ---\")\n",
        "try:\n",
        "    # Set streaming=True\n",
        "    # This creates an IterableDataset that yields samples one by one.\n",
        "    # No download of the full dataset happens upfront.\n",
        "    streamed_dataset = load_dataset(dataset_name, config_name, streaming=True)\n",
        "\n",
        "    print(\"Streamed dataset object created successfully:\")\n",
        "    # Note: IterableDatasets don't have a defined length `len()` or direct indexing `[i]`\n",
        "    print(streamed_dataset)\n",
        "    print(f\"\\nIterating through the first {num_samples_to_show} samples (streaming):\")\n",
        "\n",
        "    # Get an iterator for the 'train' split\n",
        "    dataset_iterator = iter(streamed_dataset['train'])\n",
        "\n",
        "    # Use itertools.islice to take just the first few samples without iterating the whole dataset\n",
        "    for i, example in enumerate(islice(dataset_iterator, num_samples_to_show)):\n",
        "        print(f\"\\n--- Sample {i+1} ---\")\n",
        "        # Print only a snippet of the text as it can be very long\n",
        "        text_snippet = example.get('text', 'N/A')[:200] + \"...\" # Get first 200 chars\n",
        "        print(f\"ID: {example.get('id', 'N/A')}\")\n",
        "        print(f\"Text Snippet: {text_snippet}\")\n",
        "        # You can access other features if available, e.g., example.get('meta')\n",
        "\n",
        "    print(f\"\\nSuccessfully streamed and displayed first {num_samples_to_show} samples.\")\n",
        "\n",
        "    # You can apply transformations like .map() or .filter() to streamed datasets too!\n",
        "    # They will be applied on-the-fly as you iterate.\n",
        "    # Example: streamed_dataset['train'].map(lambda example: {'len': len(example['text'])})\n",
        "\n",
        "except Exception as e:\n",
        "    print(f\"Error during streaming load or iteration: {e}\")\n",
        "    print(\"Check dataset name, config name, and internet connection.\")\n",
        "\n",
        "# --- End of Recipe ---\n"
      ],
      "metadata": {
        "id": "XX_Iqvwaaowo",
        "trusted": true,
        "execution": {
          "iopub.status.busy": "2025-05-11T09:36:15.288247Z",
          "iopub.execute_input": "2025-05-11T09:36:15.288456Z",
          "iopub.status.idle": "2025-05-11T09:36:17.847922Z",
          "shell.execute_reply.started": "2025-05-11T09:36:15.288441Z",
          "shell.execute_reply": "2025-05-11T09:36:17.847207Z"
        },
        "outputId": "4954a4a7-8aba-4464-f6a6-a1a1c0836304"
      },
      "outputs": [
        {
          "name": "stdout",
          "text": "\n--- Loading Dataset in Streaming Mode: oscar (unshuffled_deduplicated_en) ---\nStreamed dataset object created successfully:\nIterableDatasetDict({\n    train: IterableDataset({\n        features: ['id', 'text'],\n        num_shards: 670\n    })\n})\n\nIterating through the first 5 samples (streaming):\n\n--- Sample 1 ---\nID: 0\nText Snippet: Mtendere Village was inspired by the vision of Chief Napoleon Dzombe, which he shared with John Blanchard during his first visit to Malawi. Chief Napoleon conveyed the desperate need for a program to ...\n\n--- Sample 2 ---\nID: 1\nText Snippet: Lily James cannot fight the music. In the title role of 2015’s handsome Cinderella rework, her beautiful singing served as a plot point, attracting a suitor to her like a sailor drawn in by a siren’s ...\n\n--- Sample 3 ---\nID: 2\nText Snippet: \"I'd love to help kickstart continued development! And 0 EUR/month really does make fiscal sense too... maybe I'll even get a shirt?\" (there will be limited edition shirts for two and other goodies fo...\n\n--- Sample 4 ---\nID: 3\nText Snippet: \"We view 11-11 as a top-tier, strategic partner and really appreciate their investment especially in our early days which was key to our development efforts. Fully automated sewing remains the final r...\n\n--- Sample 5 ---\nID: 4\nText Snippet: Are you looking for Number the Stars (Essential Modern Classics)? Normally, this book cost you INR 399.00. At 1234-38.com you can get the PDF version of Number the Stars (Essential Modern Classics) fo...\n\nSuccessfully streamed and displayed first 5 samples.\n",
          "output_type": "stream"
        }
      ],
      "execution_count": null
    },
    {
      "cell_type": "markdown",
      "source": [
        "##Recipe-3: Measuring Your Ingredients (Visualizing Token Lengths)"
      ],
      "metadata": {
        "id": "9WP52GLLoBMN"
      }
    },
    {
      "cell_type": "code",
      "source": [
        "# --- Recipe: Measuring Your Ingredients (Visualizing Token Lengths) ---\n",
        "# Goal: Tokenize a dataset sample and plot a histogram of sequence lengths.\n",
        "# Libraries: Hugging Face Datasets, Transformers, Matplotlib\n",
        "# Note: Ensure you have run `pip install datasets transformers torch matplotlib sentencepiece`\n",
        "\n",
        "import matplotlib.pyplot as plt\n",
        "from datasets import load_dataset\n",
        "from transformers import AutoTokenizer\n",
        "import numpy as np\n",
        "\n",
        "# --- Configuration ---\n",
        "dataset_name = \"imdb\" # Standard sentiment analysis dataset (text reviews)\n",
        "split = \"train\" # Choose split (e.g., 'train', 'test')\n",
        "text_column = \"text\" # Column containing the text data in the dataset\n",
        "# Choose a tokenizer consistent with models you might use\n",
        "tokenizer_id = \"distilbert-base-uncased\" # Smaller BERT-like model tokenizer\n",
        "num_samples_for_analysis = 1000 # Analyze a subset for efficiency\n",
        "\n",
        "print(f\"Loading dataset: {dataset_name} (split: {split})\")\n",
        "try:\n",
        "    # Load a subset using slicing for efficiency if dataset is large\n",
        "    # dataset = load_dataset(dataset_name, split=f\"{split}[:{num_samples_for_analysis}]\")\n",
        "    # Or load normally and select later if small enough\n",
        "    full_dataset = load_dataset(dataset_name)\n",
        "    dataset = full_dataset[split].select(range(min(num_samples_for_analysis, len(full_dataset[split]))))\n",
        "    print(f\"Loaded {len(dataset)} samples for analysis.\")\n",
        "except Exception as e:\n",
        "    print(f\"Error loading dataset: {e}\")\n",
        "    exit()\n",
        "\n",
        "print(f\"\\nLoading tokenizer: {tokenizer_id}\")\n",
        "try:\n",
        "    tokenizer = AutoTokenizer.from_pretrained(tokenizer_id)\n",
        "    print(\"Tokenizer loaded.\")\n",
        "except Exception as e:\n",
        "    print(f\"Error loading tokenizer: {e}\")\n",
        "    exit()"
      ],
      "metadata": {
        "trusted": true,
        "execution": {
          "iopub.status.busy": "2025-05-11T09:36:17.848580Z",
          "iopub.execute_input": "2025-05-11T09:36:17.848776Z",
          "iopub.status.idle": "2025-05-11T09:36:21.121299Z",
          "shell.execute_reply.started": "2025-05-11T09:36:17.848760Z",
          "shell.execute_reply": "2025-05-11T09:36:21.120612Z"
        },
        "id": "2TduxNBhY6Bz",
        "outputId": "90903f1c-118c-4167-9f09-56257adb9c87"
      },
      "outputs": [
        {
          "name": "stdout",
          "text": "Loading dataset: imdb (split: train)\nLoaded 1000 samples for analysis.\n\nLoading tokenizer: distilbert-base-uncased\nTokenizer loaded.\n",
          "output_type": "stream"
        }
      ],
      "execution_count": null
    },
    {
      "cell_type": "code",
      "source": [
        "# --- Tokenize the Dataset ---\n",
        "# Define a function to tokenize examples and get lengths\n",
        "def tokenize_and_get_length(batch):\n",
        "    tokenized = tokenizer(batch[text_column], truncation=False, padding=False, max_length=512)\n",
        "    lengths = [len(input_ids) for input_ids in tokenized[\"input_ids\"]]\n",
        "    return {\"token_length\": lengths}\n",
        "\n",
        "print(\"\\nTokenizing dataset samples to calculate lengths...\")\n",
        "try:\n",
        "    # Use .map() to apply the function efficiently\n",
        "    # batched=True processes multiple examples at once\n",
        "    dataset_with_lengths = dataset.map(tokenize_and_get_length, batched=True)\n",
        "    print(\"Tokenization complete.\")\n",
        "    print(f\"First few examples with token lengths:\\n {dataset_with_lengths[:3]}\")\n",
        "except Exception as e:\n",
        "    print(f\"Error during tokenization map: {e}\")\n",
        "    exit()"
      ],
      "metadata": {
        "trusted": true,
        "execution": {
          "iopub.status.busy": "2025-05-11T09:36:21.122830Z",
          "iopub.execute_input": "2025-05-11T09:36:21.123044Z",
          "iopub.status.idle": "2025-05-11T09:36:21.710352Z",
          "shell.execute_reply.started": "2025-05-11T09:36:21.123029Z",
          "shell.execute_reply": "2025-05-11T09:36:21.709559Z"
        },
        "colab": {
          "referenced_widgets": [
            "a275a6adfeb04fb9acc2219b57dfe104"
          ]
        },
        "id": "BnKO0uI8Y6B0",
        "outputId": "3bf6a8cf-cb91-4c36-e32b-71c6beebb98f"
      },
      "outputs": [
        {
          "name": "stdout",
          "text": "\nTokenizing dataset samples to calculate lengths...\n",
          "output_type": "stream"
        },
        {
          "output_type": "display_data",
          "data": {
            "text/plain": "Map:   0%|          | 0/1000 [00:00<?, ? examples/s]",
            "application/vnd.jupyter.widget-view+json": {
              "version_major": 2,
              "version_minor": 0,
              "model_id": "a275a6adfeb04fb9acc2219b57dfe104"
            }
          },
          "metadata": {}
        },
        {
          "name": "stdout",
          "text": "Tokenization complete.\nFirst few examples with token lengths:\n {'text': ['I rented I AM CURIOUS-YELLOW from my video store because of all the controversy that surrounded it when it was first released in 1967. I also heard that at first it was seized by U.S. customs if it ever tried to enter this country, therefore being a fan of films considered \"controversial\" I really had to see this for myself.<br /><br />The plot is centered around a young Swedish drama student named Lena who wants to learn everything she can about life. In particular she wants to focus her attentions to making some sort of documentary on what the average Swede thought about certain political issues such as the Vietnam War and race issues in the United States. In between asking politicians and ordinary denizens of Stockholm about their opinions on politics, she has sex with her drama teacher, classmates, and married men.<br /><br />What kills me about I AM CURIOUS-YELLOW is that 40 years ago, this was considered pornographic. Really, the sex and nudity scenes are few and far between, even then it\\'s not shot like some cheaply made porno. While my countrymen mind find it shocking, in reality sex and nudity are a major staple in Swedish cinema. Even Ingmar Bergman, arguably their answer to good old boy John Ford, had sex scenes in his films.<br /><br />I do commend the filmmakers for the fact that any sex shown in the film is shown for artistic purposes rather than just to shock people and make money to be shown in pornographic theaters in America. I AM CURIOUS-YELLOW is a good film for anyone wanting to study the meat and potatoes (no pun intended) of Swedish cinema. But really, this film doesn\\'t have much of a plot.', '\"I Am Curious: Yellow\" is a risible and pretentious steaming pile. It doesn\\'t matter what one\\'s political views are because this film can hardly be taken seriously on any level. As for the claim that frontal male nudity is an automatic NC-17, that isn\\'t true. I\\'ve seen R-rated films with male nudity. Granted, they only offer some fleeting views, but where are the R-rated films with gaping vulvas and flapping labia? Nowhere, because they don\\'t exist. The same goes for those crappy cable shows: schlongs swinging in the breeze but not a clitoris in sight. And those pretentious indie movies like The Brown Bunny, in which we\\'re treated to the site of Vincent Gallo\\'s throbbing johnson, but not a trace of pink visible on Chloe Sevigny. Before crying (or implying) \"double-standard\" in matters of nudity, the mentally obtuse should take into account one unavoidably obvious anatomical difference between men and women: there are no genitals on display when actresses appears nude, and the same cannot be said for a man. In fact, you generally won\\'t see female genitals in an American film in anything short of porn or explicit erotica. This alleged double-standard is less a double standard than an admittedly depressing ability to come to terms culturally with the insides of women\\'s bodies.', \"If only to avoid making this type of film in the future. This film is interesting as an experiment but tells no cogent story.<br /><br />One might feel virtuous for sitting thru it because it touches on so many IMPORTANT issues but it does so without any discernable motive. The viewer comes away with no new perspectives (unless one comes up with one while one's mind wanders, as it will invariably do during this pointless film).<br /><br />One might better spend one's time staring out a window at a tree growing.<br /><br />\"], 'label': [0, 0, 0], 'token_length': [363, 304, 133]}\n",
          "output_type": "stream"
        }
      ],
      "execution_count": null
    },
    {
      "cell_type": "code",
      "source": [
        "# --- Prepare Data for Plotting ---\n",
        "token_lengths = dataset_with_lengths[\"token_length\"]\n",
        "\n",
        "# --- Plot Histogram ---\n",
        "print(\"\\nGenerating histogram of token lengths...\")\n",
        "plt.figure(figsize=(10, 6))\n",
        "plt.hist(token_lengths, bins=50, color='skyblue', edgecolor='black') # Adjust bins as needed\n",
        "plt.title(f'Distribution of Token Lengths ({tokenizer_id} on {dataset_name}[:{len(dataset)}])')\n",
        "plt.xlabel('Token Sequence Length')\n",
        "plt.ylabel('Number of Samples')\n",
        "plt.grid(axis='y', alpha=0.75)\n",
        "\n",
        "# Add some descriptive statistics\n",
        "mean_len = np.mean(token_lengths)\n",
        "median_len = np.median(token_lengths)\n",
        "max_len = np.max(token_lengths)\n",
        "percentile_95 = np.percentile(token_lengths, 95)\n",
        "plt.axvline(mean_len, color='red', linestyle='dashed', linewidth=1, label=f'Mean: {mean_len:.0f}')\n",
        "plt.axvline(median_len, color='green', linestyle='dashed', linewidth=1, label=f'Median: {median_len:.0f}')\n",
        "plt.axvline(percentile_95, color='purple', linestyle='dashed', linewidth=1, label=f'95th percentile: {percentile_95:.0f}')\n",
        "plt.legend()\n",
        "\n",
        "print(f\"\\nStatistics:\")\n",
        "print(f\"- Mean length: {mean_len:.2f}\")\n",
        "print(f\"- Median length: {median_len:.2f}\")\n",
        "print(f\"- Max length: {max_len}\")\n",
        "print(f\"- 95th percentile length: {percentile_95:.2f}\")\n",
        "print(\"\\nWhy is this important? Helps choose appropriate 'max_length' for truncation/padding during training.\")\n",
        "print(\"Choosing a value around the 95th percentile often balances capturing most data vs. computational cost.\")\n",
        "\n",
        "# Show the plot\n",
        "plt.tight_layout()\n",
        "plt.show() # This will display the plot in a new window if run locally\n",
        "\n",
        "# --- End of Recipe ---\n"
      ],
      "metadata": {
        "id": "jviZvHkeoJ2F",
        "trusted": true,
        "execution": {
          "iopub.status.busy": "2025-05-11T09:36:21.711212Z",
          "iopub.execute_input": "2025-05-11T09:36:21.711477Z",
          "iopub.status.idle": "2025-05-11T09:36:22.098683Z",
          "shell.execute_reply.started": "2025-05-11T09:36:21.711455Z",
          "shell.execute_reply": "2025-05-11T09:36:22.097930Z"
        },
        "outputId": "b3941730-d911-4612-ab60-bf4712a81d5a"
      },
      "outputs": [
        {
          "name": "stdout",
          "text": "\nGenerating histogram of token lengths...\n\nStatistics:\n- Mean length: 315.09\n- Median length: 239.00\n- Max length: 1525\n- 95th percentile length: 754.30\n\nWhy is this important? Helps choose appropriate 'max_length' for truncation/padding during training.\nChoosing a value around the 95th percentile often balances capturing most data vs. computational cost.\n",
          "output_type": "stream"
        },
        {
          "output_type": "display_data",
          "data": {
            "text/plain": "<Figure size 1000x600 with 1 Axes>",
            "image/png": "[encoded data removed]"
          },
          "metadata": {}
        }
      ],
      "execution_count": null
    }
  ]
}